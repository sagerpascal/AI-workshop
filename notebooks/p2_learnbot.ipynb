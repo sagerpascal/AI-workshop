{
 "cells": [
  {
   "cell_type": "code",
   "execution_count": null,
   "id": "initial_id",
   "metadata": {
    "collapsed": true
   },
   "outputs": [],
   "source": [
    "!pip install langchain\n",
    "!pip install pypdf\n",
    "!pip install numpy"
   ]
  },
  {
   "cell_type": "code",
   "execution_count": null,
   "outputs": [],
   "source": [
    "from langchain.chat_models import ChatOpenAI\n",
    "from langchain.prompts import PromptTemplate\n",
    "from langchain.schema import StrOutputParser, RunnablePassthrough\n",
    "from langchain.document_loaders import PyPDFLoader\n",
    "from langchain.text_splitter import RecursiveCharacterTextSplitter\n",
    "from langchain.embeddings import HuggingFaceEmbeddings\n",
    "from langchain import FAISS\n",
    "from pathlib import Path\n",
    "import random"
   ],
   "metadata": {
    "collapsed": false,
    "is_executing": true
   },
   "id": "d6721b88f77e8d40"
  },
  {
   "cell_type": "code",
   "execution_count": null,
   "outputs": [],
   "source": [
    "llm = ChatOpenAI()\n",
    "llm(\"Erstelle eine Frage über meine Dokumente.\")"
   ],
   "metadata": {
    "collapsed": false
   },
   "id": "d9d24181bda7b23a"
  },
  {
   "cell_type": "code",
   "execution_count": null,
   "outputs": [],
   "source": [
    "prompt = PromptTemplate.from_template(\n",
    "    \"Erstelle eine Frage über meine Dokumente. Die Dokumente haben folgenden Inhalt: {dokument}?\"\n",
    ")"
   ],
   "metadata": {
    "collapsed": false
   },
   "id": "7389cd2c2df48e58"
  },
  {
   "cell_type": "code",
   "execution_count": null,
   "outputs": [],
   "source": [
    "print(prompt.invoke({\"dokument\": \"Mein Dokument Inhalt\"}))"
   ],
   "metadata": {
    "collapsed": false
   },
   "id": "fd715991f794525a"
  },
  {
   "cell_type": "code",
   "execution_count": null,
   "outputs": [],
   "source": [
    "pipeline = prompt | llm | StrOutputParser()"
   ],
   "metadata": {
    "collapsed": false
   },
   "id": "e1d4cdbf9f0b89d6"
  },
  {
   "cell_type": "code",
   "execution_count": null,
   "outputs": [],
   "source": [
    "pipeline.invoke({\"dokument\": \"Deep Learning (deutsch: mehrschichtiges Lernen, tiefes Lernen oder tiefgehendes Lernen) bezeichnet eine Methode des maschinellen Lernens, die künstliche neuronale Netze (KNN) mit zahlreichen Zwischenschichten (englisch hidden layers) zwischen Eingabeschicht und Ausgabeschicht einsetzt und dadurch eine umfangreiche innere Struktur herausbildet. Es ist eine spezielle Methode der Informationsverarbeitung.\"})"
   ],
   "metadata": {
    "collapsed": false
   },
   "id": "38e7f443c9d25e5f"
  },
  {
   "cell_type": "code",
   "execution_count": null,
   "outputs": [],
   "source": [
    "pfad = Path(\"data\")\n",
    "for pdf_datei in pfad.glob(\"**/*.pdf\"):\n",
    "    print(pdf_datei)"
   ],
   "metadata": {
    "collapsed": false
   },
   "id": "2a0292b07ce8e66f"
  },
  {
   "cell_type": "code",
   "execution_count": null,
   "outputs": [],
   "source": [
    "for pdf_datei in pfad.glob(\"**/*.pdf\"):\n",
    "    loader = PyPDFLoader(\"example_data/layout-parser-paper.pdf\")\n",
    "    pages = loader.load_and_split()\n",
    "    print(f\"Die Datei {pdf_datei} hat {len(pages)} Seiten.\")"
   ],
   "metadata": {
    "collapsed": false
   },
   "id": "af43948a39d5070"
  },
  {
   "cell_type": "code",
   "execution_count": null,
   "outputs": [],
   "source": [
    "documents = []\n",
    "\n",
    "for pdf_datei in pfad.glob(\"**/*.pdf\"):\n",
    "    loader = PyPDFLoader(\"example_data/layout-parser-paper.pdf\")\n",
    "    pages = loader.load_and_split()\n",
    "    print(f\"Die Datei {pdf_datei} hat {len(pages)} Seiten.\")\n",
    "    documents.extend(pages)\n",
    "    \n",
    "print(f\"Wir haben insgesamt {len(documents)} Seiten.\")"
   ],
   "metadata": {
    "collapsed": false
   },
   "id": "67862c6cbd865afb"
  },
  {
   "cell_type": "code",
   "execution_count": null,
   "outputs": [],
   "source": [
    "text_splitter = RecursiveCharacterTextSplitter(chunk_size=1000, chunk_overlap=200)\n",
    "texte = text_splitter.split_documents(documents)\n",
    "print(f\"Wir haben insgesamt {len(texte)} Texte.\")\n",
    "print(f\"Beispieltext 1: {texte[0]}\")\n",
    "print(f\"Beispieltext 2: {texte[1]}\")"
   ],
   "metadata": {
    "collapsed": false
   },
   "id": "7c8dbd44aa86c1a9"
  },
  {
   "cell_type": "code",
   "execution_count": null,
   "outputs": [],
   "source": [
    "embedding_model = HuggingFaceEmbeddings(model_name=\"all-MiniLM-L12-v2\")"
   ],
   "metadata": {
    "collapsed": false
   },
   "id": "2181841106b2b138"
  },
  {
   "cell_type": "code",
   "execution_count": null,
   "outputs": [],
   "source": [
    "embeddings = embedding_model.embed_documents(texte)\n",
    "print(f\"Wir haben insgesamt {len(embeddings)} Embeddings.\")\n",
    "print(f\"Beispieltext 1: {embeddings[0]}\")"
   ],
   "metadata": {
    "collapsed": false,
    "is_executing": true
   },
   "id": "e02a490dfabe27f8"
  },
  {
   "cell_type": "code",
   "execution_count": null,
   "outputs": [],
   "source": [
    "embedded_frage = embedding_model.embed_query(\"Was ist Deep Learning?\")\n",
    "print(embedded_frage)"
   ],
   "metadata": {
    "collapsed": false
   },
   "id": "64bd38f77561ac75"
  },
  {
   "cell_type": "code",
   "execution_count": null,
   "outputs": [],
   "source": [
    "import numpy as np\n",
    "\n",
    "def cosine_similarity(a, b):\n",
    "    return np.dot(a, b) / (np.linalg.norm(a) * np.linalg.norm(b))\n",
    "\n",
    "similarities = [cosine_similarity(embedded_frage, embedding) for embedding in embeddings]\n",
    "print(similarities)"
   ],
   "metadata": {
    "collapsed": false
   },
   "id": "932f2ecceb3184d6"
  },
  {
   "cell_type": "code",
   "execution_count": null,
   "outputs": [],
   "source": [
    "[e for _, e in sorted(zip(similarities, embeddings))]\n",
    "[texte for _, t in sorted(zip(similarities, texte))]\n",
    "similarities = sorted(similarities)"
   ],
   "metadata": {
    "collapsed": false
   },
   "id": "818b7dd324402efe"
  },
  {
   "cell_type": "code",
   "execution_count": null,
   "outputs": [],
   "source": [
    "for i in range(10):\n",
    "    print(f\"Ähnlichkeit: {similarities[i]}, Text: {texte[i]}\")"
   ],
   "metadata": {
    "collapsed": false
   },
   "id": "424dc85e77b49ff1"
  },
  {
   "cell_type": "code",
   "execution_count": null,
   "outputs": [],
   "source": [
    "datenbank = FAISS.from_documents(texte, embedding=embedding_model)\n",
    "datenbank.save_local(\"data/index.faiss\")"
   ],
   "metadata": {
    "collapsed": false
   },
   "id": "fdfed15052e9094c"
  },
  {
   "cell_type": "code",
   "execution_count": null,
   "outputs": [],
   "source": [
    "prompt = PromptTemplate.from_template(\n",
    "    \"Erstelle eine einzige Frage über Kontext: {dokument}.\"\n",
    ")"
   ],
   "metadata": {
    "collapsed": false
   },
   "id": "105b4aa8b4c3e4a"
  },
  {
   "cell_type": "code",
   "execution_count": null,
   "outputs": [],
   "source": [
    "dokument = datenbank[random.randint(0, len(datenbank))]\n",
    "\n",
    "frage_chain = (\n",
    "    {\"dokument\": dokument}\n",
    "    | prompt\n",
    "    | llm\n",
    "    | StrOutputParser()\n",
    ")\n",
    "\n",
    "print(f\"Frage: {frage_chain.invoke()}\")"
   ],
   "metadata": {
    "collapsed": false
   },
   "id": "92e581b2503818ac"
  },
  {
   "cell_type": "code",
   "execution_count": null,
   "outputs": [],
   "source": [
    "print(\"Bitte beantworte die Frage\")\n",
    "antwort = input()\n",
    "print(f\"Ihre Antwort war:{antwort}\")"
   ],
   "metadata": {
    "collapsed": false
   },
   "id": "2e47da629a9fdb80"
  },
  {
   "cell_type": "code",
   "execution_count": null,
   "outputs": [],
   "source": [
    "prompt2 = PromptTemplate.from_template(\n",
    "    \"Gegeben war folgendes Dokument: {doku}. Die Frage lautete: {frage}. Die Antwort war: {antwort}.\"\n",
    "    \"Bewerte die Antwort auf einer Skala von 1 bis 10 und sag was eine bessere Antowrt gewesen wäre.\"\n",
    ")\n",
    "\n",
    "korrektur_chain = (\n",
    "    {\"dokument\": dokument}\n",
    "    | prompt2\n",
    "    | llm\n",
    "    | StrOutputParser()\n",
    ")\n",
    "\n",
    "print(korrektur_chain.invoke())"
   ],
   "metadata": {
    "collapsed": false
   },
   "id": "cef913a1233ab4a3"
  }
 ],
 "metadata": {
  "kernelspec": {
   "display_name": "Python 3",
   "language": "python",
   "name": "python3"
  },
  "language_info": {
   "codemirror_mode": {
    "name": "ipython",
    "version": 2
   },
   "file_extension": ".py",
   "mimetype": "text/x-python",
   "name": "python",
   "nbconvert_exporter": "python",
   "pygments_lexer": "ipython2",
   "version": "2.7.6"
  }
 },
 "nbformat": 4,
 "nbformat_minor": 5
}
