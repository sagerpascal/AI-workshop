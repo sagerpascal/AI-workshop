{
 "cells": [
  {
   "cell_type": "markdown",
   "source": [
    "# AI Workshop\n",
    "\n",
    "Erstellt von [Pascal Sager](http://sagerpascal.github.io) und dem [ZHAW Zentrum für Künstliche Intelligenz](https://www.zhaw.ch/de/engineering/institute-zentren/cai/)."
   ],
   "metadata": {
    "collapsed": false
   },
   "id": "77cd2e5bb9617e02"
  },
  {
   "cell_type": "markdown",
   "source": [
    "## Installation von Paketen\n",
    "\n",
    "Nachfolgender Code installiert fünf Python-Pakete: `langchain`, `pypdf`, `numpy`, `openai`, `sentence_transformers`, und `faiss-cpu`. Diese Pakete bieten verschiedene Funktionen, die im Kontext von künstlicher Intelligenz (KI) und maschinellem Lernen (ML) relevant sind. Durch die Nutzung von Paketen können wir Code von anderen Entwicklern wiederverwenden und müssen nicht alles selbst schreiben. Dies ist ein wichtiger Aspekt der Softwareentwicklung, da es uns ermöglicht, schneller zu arbeiten und Fehler zu vermeiden.\n",
    "\n",
    "##### Erklärung der Pakete\n",
    "\n",
    "1. **`langchain`**: Ein Paket, das möglicherweise spezifische Funktionen im Bereich der Sprachverarbeitung oder Textanalyse bereitstellt.\n",
    "\n",
    "2. **`pypdf`**: Ein Paket zur Bearbeitung von PDF-Dateien. Dies könnte in einem AI-Kontext nützlich sein, wenn Textinformationen aus PDFs extrahiert werden müssen.\n",
    "\n",
    "3. **`numpy`**: Ein weit verbreitetes Paket für numerische Berechnungen in Python. Wird oft in Kombination mit AI-Anwendungen verwendet, insbesondere für die Handhabung von Datenarrays und Matrizen.\n",
    "\n",
    "4. **`openai`**: Die OpenAI-Plattform bietet verschiedene AI-Modelle und Dienste an. Das Installieren des Pakets ermöglicht es, auf diese Ressourcen zuzugreifen und sie in eigenen Projekten zu verwenden.\n",
    "\n",
    "5. **`sentence_transformers`**: Ein Paket, das prätrainierte Modelle für die Generierung von Vektoren aus Sätzen bereitstellt. Dies kann für Aufgaben wie semantische Ähnlichkeitsberechnungen nützlich sein.\n",
    "\n",
    "6. **`faiss-cpu`**: Ein effizientes Indexierungs- und Suchpaket, das für das schnelle Durchsuchen großer Mengen von Vektoren optimiert ist. Kann in Anwendungen verwendet werden, die Ähnlichkeitsabfragen erfordern, wie sie in einigen AI- und ML-Szenarien vorkommen.\n"
   ],
   "metadata": {
    "collapsed": false
   },
   "id": "92b8b877d8f884c7"
  },
  {
   "cell_type": "code",
   "execution_count": 1,
   "outputs": [
    {
     "name": "stdout",
     "output_type": "stream",
     "text": [
      "Requirement already satisfied: langchain in /Users/sage/opt/anaconda3/envs/ai-workshop/lib/python3.10/site-packages (0.0.348)\r\n",
      "Requirement already satisfied: PyYAML>=5.3 in /Users/sage/opt/anaconda3/envs/ai-workshop/lib/python3.10/site-packages (from langchain) (6.0.1)\r\n",
      "Requirement already satisfied: SQLAlchemy<3,>=1.4 in /Users/sage/opt/anaconda3/envs/ai-workshop/lib/python3.10/site-packages (from langchain) (2.0.23)\r\n",
      "Requirement already satisfied: aiohttp<4.0.0,>=3.8.3 in /Users/sage/opt/anaconda3/envs/ai-workshop/lib/python3.10/site-packages (from langchain) (3.9.1)\r\n",
      "Requirement already satisfied: async-timeout<5.0.0,>=4.0.0 in /Users/sage/opt/anaconda3/envs/ai-workshop/lib/python3.10/site-packages (from langchain) (4.0.3)\r\n",
      "Requirement already satisfied: dataclasses-json<0.7,>=0.5.7 in /Users/sage/opt/anaconda3/envs/ai-workshop/lib/python3.10/site-packages (from langchain) (0.6.3)\r\n",
      "Requirement already satisfied: jsonpatch<2.0,>=1.33 in /Users/sage/opt/anaconda3/envs/ai-workshop/lib/python3.10/site-packages (from langchain) (1.33)\r\n",
      "Requirement already satisfied: langchain-core<0.1,>=0.0.12 in /Users/sage/opt/anaconda3/envs/ai-workshop/lib/python3.10/site-packages (from langchain) (0.0.12)\r\n",
      "Requirement already satisfied: langsmith<0.1.0,>=0.0.63 in /Users/sage/opt/anaconda3/envs/ai-workshop/lib/python3.10/site-packages (from langchain) (0.0.69)\r\n",
      "Requirement already satisfied: numpy<2,>=1 in /Users/sage/opt/anaconda3/envs/ai-workshop/lib/python3.10/site-packages (from langchain) (1.26.2)\r\n",
      "Requirement already satisfied: pydantic<3,>=1 in /Users/sage/opt/anaconda3/envs/ai-workshop/lib/python3.10/site-packages (from langchain) (2.5.2)\r\n",
      "Requirement already satisfied: requests<3,>=2 in /Users/sage/opt/anaconda3/envs/ai-workshop/lib/python3.10/site-packages (from langchain) (2.31.0)\r\n",
      "Requirement already satisfied: tenacity<9.0.0,>=8.1.0 in /Users/sage/opt/anaconda3/envs/ai-workshop/lib/python3.10/site-packages (from langchain) (8.2.3)\r\n",
      "Requirement already satisfied: attrs>=17.3.0 in /Users/sage/opt/anaconda3/envs/ai-workshop/lib/python3.10/site-packages (from aiohttp<4.0.0,>=3.8.3->langchain) (23.1.0)\r\n",
      "Requirement already satisfied: multidict<7.0,>=4.5 in /Users/sage/opt/anaconda3/envs/ai-workshop/lib/python3.10/site-packages (from aiohttp<4.0.0,>=3.8.3->langchain) (6.0.4)\r\n",
      "Requirement already satisfied: yarl<2.0,>=1.0 in /Users/sage/opt/anaconda3/envs/ai-workshop/lib/python3.10/site-packages (from aiohttp<4.0.0,>=3.8.3->langchain) (1.9.4)\r\n",
      "Requirement already satisfied: frozenlist>=1.1.1 in /Users/sage/opt/anaconda3/envs/ai-workshop/lib/python3.10/site-packages (from aiohttp<4.0.0,>=3.8.3->langchain) (1.4.0)\r\n",
      "Requirement already satisfied: aiosignal>=1.1.2 in /Users/sage/opt/anaconda3/envs/ai-workshop/lib/python3.10/site-packages (from aiohttp<4.0.0,>=3.8.3->langchain) (1.3.1)\r\n",
      "Requirement already satisfied: marshmallow<4.0.0,>=3.18.0 in /Users/sage/opt/anaconda3/envs/ai-workshop/lib/python3.10/site-packages (from dataclasses-json<0.7,>=0.5.7->langchain) (3.20.1)\r\n",
      "Requirement already satisfied: typing-inspect<1,>=0.4.0 in /Users/sage/opt/anaconda3/envs/ai-workshop/lib/python3.10/site-packages (from dataclasses-json<0.7,>=0.5.7->langchain) (0.9.0)\r\n",
      "Requirement already satisfied: jsonpointer>=1.9 in /Users/sage/opt/anaconda3/envs/ai-workshop/lib/python3.10/site-packages (from jsonpatch<2.0,>=1.33->langchain) (2.4)\r\n",
      "Requirement already satisfied: anyio<5,>=3 in /Users/sage/opt/anaconda3/envs/ai-workshop/lib/python3.10/site-packages (from langchain-core<0.1,>=0.0.12->langchain) (4.1.0)\r\n",
      "Requirement already satisfied: packaging<24.0,>=23.2 in /Users/sage/opt/anaconda3/envs/ai-workshop/lib/python3.10/site-packages (from langchain-core<0.1,>=0.0.12->langchain) (23.2)\r\n",
      "Requirement already satisfied: annotated-types>=0.4.0 in /Users/sage/opt/anaconda3/envs/ai-workshop/lib/python3.10/site-packages (from pydantic<3,>=1->langchain) (0.6.0)\r\n",
      "Requirement already satisfied: pydantic-core==2.14.5 in /Users/sage/opt/anaconda3/envs/ai-workshop/lib/python3.10/site-packages (from pydantic<3,>=1->langchain) (2.14.5)\r\n",
      "Requirement already satisfied: typing-extensions>=4.6.1 in /Users/sage/opt/anaconda3/envs/ai-workshop/lib/python3.10/site-packages (from pydantic<3,>=1->langchain) (4.8.0)\r\n",
      "Requirement already satisfied: charset-normalizer<4,>=2 in /Users/sage/opt/anaconda3/envs/ai-workshop/lib/python3.10/site-packages (from requests<3,>=2->langchain) (3.3.2)\r\n",
      "Requirement already satisfied: idna<4,>=2.5 in /Users/sage/opt/anaconda3/envs/ai-workshop/lib/python3.10/site-packages (from requests<3,>=2->langchain) (3.6)\r\n",
      "Requirement already satisfied: urllib3<3,>=1.21.1 in /Users/sage/opt/anaconda3/envs/ai-workshop/lib/python3.10/site-packages (from requests<3,>=2->langchain) (2.1.0)\r\n",
      "Requirement already satisfied: certifi>=2017.4.17 in /Users/sage/opt/anaconda3/envs/ai-workshop/lib/python3.10/site-packages (from requests<3,>=2->langchain) (2023.11.17)\r\n",
      "Requirement already satisfied: greenlet!=0.4.17 in /Users/sage/opt/anaconda3/envs/ai-workshop/lib/python3.10/site-packages (from SQLAlchemy<3,>=1.4->langchain) (3.0.2)\r\n",
      "Requirement already satisfied: sniffio>=1.1 in /Users/sage/opt/anaconda3/envs/ai-workshop/lib/python3.10/site-packages (from anyio<5,>=3->langchain-core<0.1,>=0.0.12->langchain) (1.3.0)\r\n",
      "Requirement already satisfied: exceptiongroup>=1.0.2 in /Users/sage/opt/anaconda3/envs/ai-workshop/lib/python3.10/site-packages (from anyio<5,>=3->langchain-core<0.1,>=0.0.12->langchain) (1.2.0)\r\n",
      "Requirement already satisfied: mypy-extensions>=0.3.0 in /Users/sage/opt/anaconda3/envs/ai-workshop/lib/python3.10/site-packages (from typing-inspect<1,>=0.4.0->dataclasses-json<0.7,>=0.5.7->langchain) (1.0.0)\r\n",
      "Requirement already satisfied: pypdf in /Users/sage/opt/anaconda3/envs/ai-workshop/lib/python3.10/site-packages (3.17.3)\r\n",
      "Requirement already satisfied: numpy in /Users/sage/opt/anaconda3/envs/ai-workshop/lib/python3.10/site-packages (1.26.2)\r\n",
      "Requirement already satisfied: openai in /Users/sage/opt/anaconda3/envs/ai-workshop/lib/python3.10/site-packages (1.6.0)\r\n",
      "Requirement already satisfied: anyio<5,>=3.5.0 in /Users/sage/opt/anaconda3/envs/ai-workshop/lib/python3.10/site-packages (from openai) (4.1.0)\r\n",
      "Requirement already satisfied: distro<2,>=1.7.0 in /Users/sage/opt/anaconda3/envs/ai-workshop/lib/python3.10/site-packages (from openai) (1.8.0)\r\n",
      "Requirement already satisfied: httpx<1,>=0.23.0 in /Users/sage/opt/anaconda3/envs/ai-workshop/lib/python3.10/site-packages (from openai) (0.26.0)\r\n",
      "Requirement already satisfied: pydantic<3,>=1.9.0 in /Users/sage/opt/anaconda3/envs/ai-workshop/lib/python3.10/site-packages (from openai) (2.5.2)\r\n",
      "Requirement already satisfied: sniffio in /Users/sage/opt/anaconda3/envs/ai-workshop/lib/python3.10/site-packages (from openai) (1.3.0)\r\n",
      "Requirement already satisfied: tqdm>4 in /Users/sage/opt/anaconda3/envs/ai-workshop/lib/python3.10/site-packages (from openai) (4.66.1)\r\n",
      "Requirement already satisfied: typing-extensions<5,>=4.7 in /Users/sage/opt/anaconda3/envs/ai-workshop/lib/python3.10/site-packages (from openai) (4.8.0)\r\n",
      "Requirement already satisfied: idna>=2.8 in /Users/sage/opt/anaconda3/envs/ai-workshop/lib/python3.10/site-packages (from anyio<5,>=3.5.0->openai) (3.6)\r\n",
      "Requirement already satisfied: exceptiongroup>=1.0.2 in /Users/sage/opt/anaconda3/envs/ai-workshop/lib/python3.10/site-packages (from anyio<5,>=3.5.0->openai) (1.2.0)\r\n",
      "Requirement already satisfied: certifi in /Users/sage/opt/anaconda3/envs/ai-workshop/lib/python3.10/site-packages (from httpx<1,>=0.23.0->openai) (2023.11.17)\r\n",
      "Requirement already satisfied: httpcore==1.* in /Users/sage/opt/anaconda3/envs/ai-workshop/lib/python3.10/site-packages (from httpx<1,>=0.23.0->openai) (1.0.2)\r\n",
      "Requirement already satisfied: h11<0.15,>=0.13 in /Users/sage/opt/anaconda3/envs/ai-workshop/lib/python3.10/site-packages (from httpcore==1.*->httpx<1,>=0.23.0->openai) (0.14.0)\r\n",
      "Requirement already satisfied: annotated-types>=0.4.0 in /Users/sage/opt/anaconda3/envs/ai-workshop/lib/python3.10/site-packages (from pydantic<3,>=1.9.0->openai) (0.6.0)\r\n",
      "Requirement already satisfied: pydantic-core==2.14.5 in /Users/sage/opt/anaconda3/envs/ai-workshop/lib/python3.10/site-packages (from pydantic<3,>=1.9.0->openai) (2.14.5)\r\n",
      "Requirement already satisfied: sentence_transformers in /Users/sage/opt/anaconda3/envs/ai-workshop/lib/python3.10/site-packages (2.2.2)\r\n",
      "Requirement already satisfied: transformers<5.0.0,>=4.6.0 in /Users/sage/opt/anaconda3/envs/ai-workshop/lib/python3.10/site-packages (from sentence_transformers) (4.36.2)\r\n",
      "Requirement already satisfied: tqdm in /Users/sage/opt/anaconda3/envs/ai-workshop/lib/python3.10/site-packages (from sentence_transformers) (4.66.1)\r\n",
      "Requirement already satisfied: torch>=1.6.0 in /Users/sage/opt/anaconda3/envs/ai-workshop/lib/python3.10/site-packages (from sentence_transformers) (2.1.2)\r\n",
      "Requirement already satisfied: torchvision in /Users/sage/opt/anaconda3/envs/ai-workshop/lib/python3.10/site-packages (from sentence_transformers) (0.16.2)\r\n",
      "Requirement already satisfied: numpy in /Users/sage/opt/anaconda3/envs/ai-workshop/lib/python3.10/site-packages (from sentence_transformers) (1.26.2)\r\n",
      "Requirement already satisfied: scikit-learn in /Users/sage/opt/anaconda3/envs/ai-workshop/lib/python3.10/site-packages (from sentence_transformers) (1.3.2)\r\n",
      "Requirement already satisfied: scipy in /Users/sage/opt/anaconda3/envs/ai-workshop/lib/python3.10/site-packages (from sentence_transformers) (1.11.4)\r\n",
      "Requirement already satisfied: nltk in /Users/sage/opt/anaconda3/envs/ai-workshop/lib/python3.10/site-packages (from sentence_transformers) (3.8.1)\r\n",
      "Requirement already satisfied: sentencepiece in /Users/sage/opt/anaconda3/envs/ai-workshop/lib/python3.10/site-packages (from sentence_transformers) (0.1.99)\r\n",
      "Requirement already satisfied: huggingface-hub>=0.4.0 in /Users/sage/opt/anaconda3/envs/ai-workshop/lib/python3.10/site-packages (from sentence_transformers) (0.20.1)\r\n",
      "Requirement already satisfied: filelock in /Users/sage/opt/anaconda3/envs/ai-workshop/lib/python3.10/site-packages (from huggingface-hub>=0.4.0->sentence_transformers) (3.13.1)\r\n",
      "Requirement already satisfied: fsspec>=2023.5.0 in /Users/sage/opt/anaconda3/envs/ai-workshop/lib/python3.10/site-packages (from huggingface-hub>=0.4.0->sentence_transformers) (2023.12.2)\r\n",
      "Requirement already satisfied: requests in /Users/sage/opt/anaconda3/envs/ai-workshop/lib/python3.10/site-packages (from huggingface-hub>=0.4.0->sentence_transformers) (2.31.0)\r\n",
      "Requirement already satisfied: pyyaml>=5.1 in /Users/sage/opt/anaconda3/envs/ai-workshop/lib/python3.10/site-packages (from huggingface-hub>=0.4.0->sentence_transformers) (6.0.1)\r\n",
      "Requirement already satisfied: typing-extensions>=3.7.4.3 in /Users/sage/opt/anaconda3/envs/ai-workshop/lib/python3.10/site-packages (from huggingface-hub>=0.4.0->sentence_transformers) (4.8.0)\r\n",
      "Requirement already satisfied: packaging>=20.9 in /Users/sage/opt/anaconda3/envs/ai-workshop/lib/python3.10/site-packages (from huggingface-hub>=0.4.0->sentence_transformers) (23.2)\r\n",
      "Requirement already satisfied: sympy in /Users/sage/opt/anaconda3/envs/ai-workshop/lib/python3.10/site-packages (from torch>=1.6.0->sentence_transformers) (1.12)\r\n",
      "Requirement already satisfied: networkx in /Users/sage/opt/anaconda3/envs/ai-workshop/lib/python3.10/site-packages (from torch>=1.6.0->sentence_transformers) (3.2.1)\r\n",
      "Requirement already satisfied: jinja2 in /Users/sage/opt/anaconda3/envs/ai-workshop/lib/python3.10/site-packages (from torch>=1.6.0->sentence_transformers) (3.1.2)\r\n",
      "Requirement already satisfied: regex!=2019.12.17 in /Users/sage/opt/anaconda3/envs/ai-workshop/lib/python3.10/site-packages (from transformers<5.0.0,>=4.6.0->sentence_transformers) (2023.10.3)\r\n",
      "Requirement already satisfied: tokenizers<0.19,>=0.14 in /Users/sage/opt/anaconda3/envs/ai-workshop/lib/python3.10/site-packages (from transformers<5.0.0,>=4.6.0->sentence_transformers) (0.15.0)\r\n",
      "Requirement already satisfied: safetensors>=0.3.1 in /Users/sage/opt/anaconda3/envs/ai-workshop/lib/python3.10/site-packages (from transformers<5.0.0,>=4.6.0->sentence_transformers) (0.4.1)\r\n",
      "Requirement already satisfied: click in /Users/sage/opt/anaconda3/envs/ai-workshop/lib/python3.10/site-packages (from nltk->sentence_transformers) (8.1.7)\r\n",
      "Requirement already satisfied: joblib in /Users/sage/opt/anaconda3/envs/ai-workshop/lib/python3.10/site-packages (from nltk->sentence_transformers) (1.3.2)\r\n",
      "Requirement already satisfied: threadpoolctl>=2.0.0 in /Users/sage/opt/anaconda3/envs/ai-workshop/lib/python3.10/site-packages (from scikit-learn->sentence_transformers) (3.2.0)\r\n",
      "Requirement already satisfied: pillow!=8.3.*,>=5.3.0 in /Users/sage/opt/anaconda3/envs/ai-workshop/lib/python3.10/site-packages (from torchvision->sentence_transformers) (10.1.0)\r\n",
      "Requirement already satisfied: MarkupSafe>=2.0 in /Users/sage/opt/anaconda3/envs/ai-workshop/lib/python3.10/site-packages (from jinja2->torch>=1.6.0->sentence_transformers) (2.1.3)\r\n",
      "Requirement already satisfied: charset-normalizer<4,>=2 in /Users/sage/opt/anaconda3/envs/ai-workshop/lib/python3.10/site-packages (from requests->huggingface-hub>=0.4.0->sentence_transformers) (3.3.2)\r\n",
      "Requirement already satisfied: idna<4,>=2.5 in /Users/sage/opt/anaconda3/envs/ai-workshop/lib/python3.10/site-packages (from requests->huggingface-hub>=0.4.0->sentence_transformers) (3.6)\r\n",
      "Requirement already satisfied: urllib3<3,>=1.21.1 in /Users/sage/opt/anaconda3/envs/ai-workshop/lib/python3.10/site-packages (from requests->huggingface-hub>=0.4.0->sentence_transformers) (2.1.0)\r\n",
      "Requirement already satisfied: certifi>=2017.4.17 in /Users/sage/opt/anaconda3/envs/ai-workshop/lib/python3.10/site-packages (from requests->huggingface-hub>=0.4.0->sentence_transformers) (2023.11.17)\r\n",
      "Requirement already satisfied: mpmath>=0.19 in /Users/sage/opt/anaconda3/envs/ai-workshop/lib/python3.10/site-packages (from sympy->torch>=1.6.0->sentence_transformers) (1.3.0)\r\n",
      "Requirement already satisfied: faiss-cpu in /Users/sage/opt/anaconda3/envs/ai-workshop/lib/python3.10/site-packages (1.7.4)\r\n"
     ]
    }
   ],
   "source": [
    "!pip install langchain\n",
    "!pip install pypdf\n",
    "!pip install numpy\n",
    "!pip install openai\n",
    "!pip install sentence_transformers\n",
    "!pip install faiss-cpu"
   ],
   "metadata": {
    "collapsed": false,
    "ExecuteTime": {
     "end_time": "2023-12-22T21:32:18.562881Z",
     "start_time": "2023-12-22T21:31:39.850388Z"
    }
   },
   "id": "initial_id"
  },
  {
   "cell_type": "markdown",
   "source": [
    "\n",
    "## Import von Modulen\n",
    "Nach der Installation der Softwarepakete müssen diese importiert werden, um sie in Python verwenden zu können.\n",
    "Der nachfolgende Code importiert verschiedene Module aus dem `langchain`-Paket und einige zusätzliche Module wie `pathlib` und `random`. Diese Module bieten Funktionen und Werkzeuge, die für die Bearbeitung von Textdaten, die Verarbeitung von PDF-Dateien, die Erstellung von Chatmodellen und die Arbeit mit Embeddings relevant sind.\n",
    "\n",
    "##### Erklärung der Module\n",
    "\n",
    "1. **`ChatOpenAI`**: Ein Modul aus `langchain` für Chatmodelle basierend auf der OpenAI-GPT-Architektur. Dies ermöglicht die Implementierung von Chatbots oder ähnlichen Anwendungen.\n",
    "\n",
    "2. **`PromptTemplate`**: Ein Modul, das Vorlagen für Prompts (Aufforderungen) in Chatanwendungen bereitstellt. Prompts sind Anfragen oder Sätze, die an Chatmodelle gesendet werden, um eine spezifische Reaktion zu erhalten.\n",
    "\n",
    "3. **`StrOutputParser`**: Ein Modul, das die Ausgaben von Chatmodellen oder anderen Textgeneratoren auf die Konsole ermöglicht.\n",
    "\n",
    "4. **`RunnablePassthrough`**: Ein Modul, das für die Durchführung von Textoperationen oder -transformationen verwendet wird.\n",
    "\n",
    "5. **`HumanMessage`**: Ein Modul, das für die Erstellung von Nachrichtenobjekten verwendet wird, die an Chatmodelle gesendet werden können.\n",
    "\n",
    "6. **`PyPDFLoader`**: Ein Modul, das Funktionen zum Laden von Text aus PDF-Dateien bereitstellt. Dies könnte in Anwendungen nützlich sein, die mit großen Textmengen in PDFs arbeiten.\n",
    "\n",
    "7. **`RecursiveCharacterTextSplitter`**: Ein Modul, das sich wahrscheinlich auf die Aufteilung von Text in Abschnitte oder Absätze konzentriert. Dies könnte in Verbindung mit der Verarbeitung von großen Textdaten nützlich sein.\n",
    "\n",
    "8. **`HuggingFaceEmbeddings`**: Ein Modul für Embeddings, basierend auf Modellen von Hugging Face. Embeddings sind numerische Repräsentationen von Text, die in vielen AI-Anwendungen verwendet werden.\n",
    "\n",
    "9. **`FAISS`**: Ein Modul für die Integration von FAISS, einem effizienten Indexierungs- und Suchpaket, das oft in Zusammenhang mit Vektoren und Ähnlichkeitsabfragen verwendet wird.\n",
    "\n",
    "10. **`Path`**: Ein Modul aus der Standardbibliothek (`pathlib`), das Funktionen zum Arbeiten mit Dateipfaden bereitstellt.\n",
    "\n",
    "11. **`random`**: Ein Modul aus der Standardbibliothek (`random`), das Funktionen für Zufallsoperationen bereitstellt.\n"
   ],
   "metadata": {
    "collapsed": false
   },
   "id": "ae10f5177b24ecf"
  },
  {
   "cell_type": "code",
   "execution_count": 2,
   "outputs": [],
   "source": [
    "from langchain.chat_models import ChatOpenAI\n",
    "from langchain.prompts import PromptTemplate\n",
    "from langchain.schema import StrOutputParser, HumanMessage\n",
    "from langchain.schema.runnable import RunnablePassthrough\n",
    "from langchain.document_loaders import PyPDFLoader\n",
    "from langchain.text_splitter import RecursiveCharacterTextSplitter\n",
    "from langchain.embeddings import HuggingFaceEmbeddings\n",
    "from langchain import FAISS\n",
    "from pathlib import Path\n",
    "import random"
   ],
   "metadata": {
    "collapsed": false,
    "ExecuteTime": {
     "end_time": "2023-12-22T21:32:24.454516Z",
     "start_time": "2023-12-22T21:32:18.561210Z"
    }
   },
   "id": "d6721b88f77e8d40"
  },
  {
   "cell_type": "markdown",
   "source": [
    "## Zugriff auf ein AI-Modell\n",
    "\n",
    "Wir nutzen ein bereits trainiertes Modell von OpenAI, um unsere Applikation zu erstellen. Dieses Modell wurde mit einer großen Menge von Textdaten trainiert und kann daher auf viele verschiedene Fragen antworten. Wir können das Modell verwenden, um eine Frage zu stellen und eine Antwort zu erhalten.\n",
    "\n",
    "Um Zugriff auf das Modell zu erhalten, müssen wir einen Zugriffscode (`key`) eingeben. Nachfolgender Code fragt uns nach diesem `key`, so dass wir ihn verwenden können, um Zugriff auf das Modell zu bekommen.\n"
   ],
   "metadata": {
    "collapsed": false
   },
   "id": "2d4d6e9f816c66bc"
  },
  {
   "cell_type": "code",
   "execution_count": 5,
   "outputs": [
    {
     "name": "stdout",
     "output_type": "stream",
     "text": [
      "Bitte gib den Zugriffscode ein:\n"
     ]
    }
   ],
   "source": [
    "import getpass\n",
    "\n",
    "print(\"Bitte gib den Zugriffscode ein:\")\n",
    "key = getpass.getpass()"
   ],
   "metadata": {
    "collapsed": false,
    "ExecuteTime": {
     "end_time": "2023-12-22T21:34:32.762292Z",
     "start_time": "2023-12-22T21:34:30.627365Z"
    }
   },
   "id": "f77f8deb5d35765c"
  },
  {
   "cell_type": "markdown",
   "source": [
    "## Ziel\n",
    "\n",
    "In diesem Workshop versuchen wir einen Chatbot zu erstellen, welchen wir Fragen über unsere Dokumente stellen können. Beispielsweise können wir Schulmaterial hochladen und der Chatbot sollte dann in der Lage sein, Fragen über dieses Material zu beantworten. Später können wir den Chatbot auch nutzen um Fragen zu den Dokumenten zu generieren, so dass wir uns auf eine Prüfung besser vorebereiten können."
   ],
   "metadata": {
    "collapsed": false
   },
   "id": "225298b5faafc9b5"
  },
  {
   "cell_type": "markdown",
   "source": [
    "## Fragen zu einem Dokument stellen\n",
    "\n",
    "Wir beginnen sehr simpel und Fragen den Chatbot über unsere Dokumente aus. Nachfolgender Code fragt ein AI Modell was unsere Dokumente beinhalten. Wir können den Code ausführen und sehen, was passiert.\n"
   ],
   "metadata": {
    "collapsed": false
   },
   "id": "1b29aea98535b81e"
  },
  {
   "cell_type": "code",
   "execution_count": 6,
   "outputs": [
    {
     "data": {
      "text/plain": "AIMessage(content='Das kann ich nicht beantworten, da ich keinen Zugriff auf Ihre Dokumente habe. Nur Sie haben Zugriff auf Ihre eigenen Dokumente und wissen, was darin enthalten ist.')"
     },
     "execution_count": 6,
     "metadata": {},
     "output_type": "execute_result"
    }
   ],
   "source": [
    "# Zuerst erstellen wir eine Verbindung zum Sprachmodell\n",
    "llm = ChatOpenAI(openai_api_key=key, model_name=\"gpt-3.5-turbo\")\n",
    "\n",
    "# Dann sagen wir dem Modell, dass wir ein Mensch (Human) sind und was unsere Frage ist (content)\n",
    "frage = HumanMessage(content=\"Was beinhalten meine Dokumente?\")\n",
    "\n",
    "# Danach können wir das Modell aufrufen\n",
    "llm.invoke([frage])"
   ],
   "metadata": {
    "collapsed": false,
    "ExecuteTime": {
     "end_time": "2023-12-22T21:34:39.224139Z",
     "start_time": "2023-12-22T21:34:34.639878Z"
    }
   },
   "id": "d9d24181bda7b23a"
  },
  {
   "cell_type": "markdown",
   "source": [
    "Wie wir sehen kann der Chatbot unsere Frage nicht beantworten. Das liegt daran, dass er unsere Dokumente nicht kennt!"
   ],
   "metadata": {
    "collapsed": false
   },
   "id": "e01be043877cc278"
  },
  {
   "cell_type": "markdown",
   "source": [
    "### Dokument erstellen\n",
    "\n",
    "Damit es funktioniert, erstellen wir ein sehr einfaches Dokument und geben es zusammen mit der Frage in den Chatbot. Wir können den Code ausführen und sehen, was passiert.\n"
   ],
   "metadata": {
    "collapsed": false
   },
   "id": "d6d88007b76b348d"
  },
  {
   "cell_type": "code",
   "execution_count": 7,
   "outputs": [
    {
     "name": "stdout",
     "output_type": "stream",
     "text": [
      "Die Frage ist: \n",
      "Was beinhalten meine Dokumente? Mein Dokument hat folgenden Inhalt: Deep Learning (deutsch: mehrschichtiges Lernen, tiefes Lernen oder tiefgehendes Lernen) bezeichnet eine Methode des maschinellen Lernens, die künstliche neuronale Netze (KNN) mit zahlreichen Zwischenschichten (englisch hidden layers) zwischen Eingabeschicht und Ausgabeschicht einsetzt und dadurch eine umfangreiche innere Struktur herausbildet. Es ist eine spezielle Methode der Informationsverarbeitung.\n",
      "\n",
      "\n",
      "Die Antwort ist: \n",
      "Ihre Dokumente enthalten Informationen über Deep Learning, eine Methode des maschinellen Lernens, die künstliche neuronale Netze mit Zwischenschichten zwischen Eingabe- und Ausgabeschicht verwendet. Dies führt zu einer umfangreichen internen Struktur. Deep Learning ist eine spezielle Methode der Informationsverarbeitung.\n"
     ]
    }
   ],
   "source": [
    "mein_dokument = \"Deep Learning (deutsch: mehrschichtiges Lernen, tiefes Lernen oder tiefgehendes Lernen) bezeichnet eine Methode des maschinellen Lernens, die künstliche neuronale Netze (KNN) mit zahlreichen Zwischenschichten (englisch hidden layers) zwischen Eingabeschicht und Ausgabeschicht einsetzt und dadurch eine umfangreiche innere Struktur herausbildet. Es ist eine spezielle Methode der Informationsverarbeitung.\"\n",
    "\n",
    "frage = HumanMessage(content=f\"Was beinhalten meine Dokumente? Mein Dokument hat folgenden Inhalt: {mein_dokument}\")\n",
    "antwort = llm.invoke([frage])\n",
    "\n",
    "print(\"Die Frage ist: \\n\" + frage.content)\n",
    "print(\"\\n\")\n",
    "print(\"Die Antwort ist: \\n\" + antwort.content)"
   ],
   "metadata": {
    "collapsed": false,
    "ExecuteTime": {
     "end_time": "2023-12-22T21:34:44.207964Z",
     "start_time": "2023-12-22T21:34:41.393776Z"
    }
   },
   "id": "bbf50fec2d9bc734"
  },
  {
   "cell_type": "markdown",
   "source": [
    "Wie wir sehen kann der Chatbot unsere Frage beantworten. Das liegt daran, dass er unser Dokument nun kennt!"
   ],
   "metadata": {
    "collapsed": false
   },
   "id": "ca6b6db02581133b"
  },
  {
   "cell_type": "markdown",
   "source": [
    "#### Frage generieren\n",
    "\n",
    "Wir können den Chatbot auch nutzen um Fragen zu unseren Dokumenten zu generieren. Dazu gehen wir identisch vor, aber anstatt einer Zusammenfassung über den Inhalt verlangen wir eine Frage.\n"
   ],
   "metadata": {
    "collapsed": false
   },
   "id": "e81ca12cbcf14101"
  },
  {
   "cell_type": "code",
   "execution_count": 8,
   "outputs": [
    {
     "name": "stdout",
     "output_type": "stream",
     "text": [
      "Die Frage ist: \n",
      "Erstelle eine spannende Frage über den Inhalt meines Dokuments. Mein Dokument hat folgenden Inhalt: Deep Learning (deutsch: mehrschichtiges Lernen, tiefes Lernen oder tiefgehendes Lernen) bezeichnet eine Methode des maschinellen Lernens, die künstliche neuronale Netze (KNN) mit zahlreichen Zwischenschichten (englisch hidden layers) zwischen Eingabeschicht und Ausgabeschicht einsetzt und dadurch eine umfangreiche innere Struktur herausbildet. Es ist eine spezielle Methode der Informationsverarbeitung.\n",
      "\n",
      "\n",
      "Die Antwort ist: \n",
      "Welche Vorteile bietet das tiefgehende Lernen im Vergleich zu anderen Methoden des maschinellen Lernens?\n"
     ]
    }
   ],
   "source": [
    "frage = HumanMessage(content=f\"Erstelle eine spannende Frage über den Inhalt meines Dokuments. Mein Dokument hat folgenden Inhalt: {mein_dokument}\")\n",
    "antwort = llm.invoke([frage])\n",
    "\n",
    "print(\"Die Frage ist: \\n\" + frage.content)\n",
    "print(\"\\n\")\n",
    "print(\"Die Antwort ist: \\n\" + antwort.content)"
   ],
   "metadata": {
    "collapsed": false,
    "ExecuteTime": {
     "end_time": "2023-12-22T21:34:45.319404Z",
     "start_time": "2023-12-22T21:34:44.158951Z"
    }
   },
   "id": "bf79d73438f4e670"
  },
  {
   "cell_type": "markdown",
   "source": [
    "## Nutzung von Templates\n",
    "\n",
    "Bisher haben wir Fragen mit folgendem Code gestellt:\n",
    "\n",
    "```python\n",
    "HumanMessage(content=f\"Was beinhalten meine Dokumente? Mein Dokument hat folgenden Inhalt: {mein_dokument}\")\n",
    "```\n",
    "\n",
    "Diesen Code jedes mal zu schreiben ist aber ziemlich aufwendig, besonders wenn wir später mehrere Dokumente haben. Wir können den Code vereinfachen, indem wir ein Template verwenden. Ein Template ist eine Vorlage, welche wir mit Werten füllen können. Nachfolgender Code erstellt ein Template und füllt es mit Werten.\n"
   ],
   "metadata": {
    "collapsed": false
   },
   "id": "503c894608c3154f"
  },
  {
   "cell_type": "code",
   "execution_count": 9,
   "outputs": [
    {
     "name": "stdout",
     "output_type": "stream",
     "text": [
      "Der Prompt hat folgenden Inhalt:\n",
      "Was beinhalten meine Dokumente? Die Dokumente haben folgenden Inhalt: Mein Dokument Inhalt\n"
     ]
    }
   ],
   "source": [
    "prompt_template = PromptTemplate.from_template(\n",
    "    \"Was beinhalten meine Dokumente? Die Dokumente haben folgenden Inhalt: {dokument}\"\n",
    ")\n",
    "\n",
    "prompt = prompt_template.invoke({\"dokument\": \"Mein Dokument Inhalt\"})\n",
    "\n",
    "print(\"Der Prompt hat folgenden Inhalt:\\n\" + prompt.text)"
   ],
   "metadata": {
    "collapsed": false,
    "ExecuteTime": {
     "end_time": "2023-12-22T21:34:45.320347Z",
     "start_time": "2023-12-22T21:34:45.275377Z"
    }
   },
   "id": "a63cbdc2f90aa456"
  },
  {
   "cell_type": "markdown",
   "source": [
    "Anstatt den ganzen Text zu schreiben, können wir nun einfach das Template verwenden:\n",
    "\n",
    "```python\n",
    "prompt = prompt_template.invoke({\"dokument\": \"Mein Dokument Inhalt\"})\n",
    "```\n",
    "\n"
   ],
   "metadata": {
    "collapsed": false
   },
   "id": "d99780ab7a38e40b"
  },
  {
   "cell_type": "markdown",
   "source": [
    "## Pipeline erstellen\n",
    "\n",
    "Damit wir künftig noch weniger Arbeit haben, können wir eine Pipeline erstellen. Eine Pipeline ist eine Abfolge von Operationen, welche wir nacheinander ausführen.\n",
    "\n",
    "Der Code wird nun schon etwas komplizierter. Wir erstellen eine Pipeline, welche die folgenden Schritte ausführt:\n",
    "\n",
    "1. Wir generieren den Prompt mit unserem Template\n",
    "2. Wir geben den Prompt an das AI Modell\n",
    "3. Wir geben die Antwort des AI Modells an einen Parser, welcher die Antwort in einen lesbaren Text umwandelt"
   ],
   "metadata": {
    "collapsed": false
   },
   "id": "9fa7a4e78def4b4f"
  },
  {
   "cell_type": "code",
   "execution_count": 10,
   "outputs": [],
   "source": [
    "pipeline = prompt_template | llm | StrOutputParser()"
   ],
   "metadata": {
    "collapsed": false,
    "ExecuteTime": {
     "end_time": "2023-12-22T21:34:45.321374Z",
     "start_time": "2023-12-22T21:34:45.290233Z"
    }
   },
   "id": "e1d4cdbf9f0b89d6"
  },
  {
   "cell_type": "markdown",
   "source": [
    "Nun können wir die Pipeline verwenden, um eine Zusammenfassung über unsere Dokumente zu erhalten.\n",
    "Dazu reicht eine Zeile Code:\n",
    "\n",
    "```python\n",
    "pipeline.invoke({\"dokument\": mein_dokument})\n",
    "```"
   ],
   "metadata": {
    "collapsed": false
   },
   "id": "cfa099c62bdfd198"
  },
  {
   "cell_type": "code",
   "execution_count": 11,
   "outputs": [
    {
     "data": {
      "text/plain": "'Ihre Dokumente enthalten Informationen über Deep Learning. Deep Learning bezieht sich auf eine Methode des maschinellen Lernens, bei der künstliche neuronale Netze mit mehreren versteckten Schichten zwischen der Eingabe- und Ausgabeschicht verwendet werden. Diese Methode ermöglicht den Aufbau einer komplexen internen Struktur. Deep Learning ist eine spezielle Methode der Informationsverarbeitung.'"
     },
     "execution_count": 11,
     "metadata": {},
     "output_type": "execute_result"
    }
   ],
   "source": [
    "pipeline.invoke({\"dokument\": mein_dokument})"
   ],
   "metadata": {
    "collapsed": false,
    "ExecuteTime": {
     "end_time": "2023-12-22T21:34:48.395250Z",
     "start_time": "2023-12-22T21:34:45.298570Z"
    }
   },
   "id": "38e7f443c9d25e5f"
  },
  {
   "cell_type": "markdown",
   "source": [
    "## Verwendung von Dokumenten\n",
    "\n",
    "Bisher haben wir nur ein Dokument verwendet, welches wir direkt im Code programmiert hatten.\n",
    "\n",
    "```python\n",
    "mein_dokument = \"Deep Learning (deutsch: mehrschichtiges Lernen, tiefes Lernen oder tiefgehendes Lernen) bezeichnet eine Methode des maschinellen Lernens, die künstliche neuronale Netze (KNN) mit zahlreichen Zwischenschichten (englisch hidden layers) zwischen Eingabeschicht und Ausgabeschicht einsetzt und dadurch eine umfangreiche innere Struktur herausbildet. Es ist eine spezielle Methode der Informationsverarbeitung.\"\n",
    "```\n",
    "\n",
    "Das ist ziemlich unpraktisch, da wir so nicht mit mehreren Dokumenten arbeiten können. Zudem müssen wir jedes mal den Code ändern, wenn wir ein Dokument hinzufügen oder löschen wollen.\n",
    "\n",
    "Wir können den Code vereinfachen, indem wir alle Dokumente aus einem Ordner laden. So können wir künftig alle gewünschten Dokumente in diesen Ordner kopieren und der Chatbot wird sie automatisch verwenden.\n"
   ],
   "metadata": {
    "collapsed": false
   },
   "id": "c386414793ec22e4"
  },
  {
   "cell_type": "markdown",
   "source": [
    "#### PDF-Dokumente finden\n",
    "\n",
    "Es gibt unzählige verschiedene Dokumenttypen - zur Vereinfachung verwenden wir nur PDF-Dokumente.\n",
    "\n",
    "Wir können alle PDF-Dokumente in einem Ordner finden, indem wir nach Dateien mit der Endung `.pdf` suchen. Nachfolgender Code sucht alle PDF-Dokumente in einem Ordner und gibt sie aus.\n"
   ],
   "metadata": {
    "collapsed": false
   },
   "id": "9b17ba8a19f91362"
  },
  {
   "cell_type": "code",
   "execution_count": 12,
   "outputs": [
    {
     "name": "stdout",
     "output_type": "stream",
     "text": [
      "data/Maschinelles Lernen – Wikipedia.pdf\n",
      "data/Deep Learning – Wikipedia.pdf\n"
     ]
    }
   ],
   "source": [
    "pfad = Path(\"data\")\n",
    "for pdf_datei in pfad.glob(\"**/*.pdf\"):\n",
    "    print(pdf_datei)"
   ],
   "metadata": {
    "collapsed": false,
    "ExecuteTime": {
     "end_time": "2023-12-22T21:34:48.395768Z",
     "start_time": "2023-12-22T21:34:48.376992Z"
    }
   },
   "id": "2a0292b07ce8e66f"
  },
  {
   "cell_type": "markdown",
   "source": [
    "#### Dokumente öffnen\n",
    "\n",
    "Wir finden nun also die Dokumente in dem Ordner. Nun müssen wir noch den Inhalt der Dokumente laden. Das können wir mit dem Paket `PyPDFLoader` machen. Nachfolgender Code lädt den Inhalt eines PDF-Dokuments."
   ],
   "metadata": {
    "collapsed": false
   },
   "id": "ad58de791860d353"
  },
  {
   "cell_type": "markdown",
   "source": [],
   "metadata": {
    "collapsed": false
   },
   "id": "98b659cf391e2e3c"
  },
  {
   "cell_type": "code",
   "execution_count": 13,
   "outputs": [
    {
     "name": "stdout",
     "output_type": "stream",
     "text": [
      "Die Datei data/Maschinelles Lernen – Wikipedia.pdf hat 5 Abschnitte.\n",
      "Die Datei data/Deep Learning – Wikipedia.pdf hat 9 Abschnitte.\n"
     ]
    }
   ],
   "source": [
    "for pdf_datei in pfad.glob(\"**/*.pdf\"):\n",
    "    loader = PyPDFLoader(str(pdf_datei))\n",
    "    pdf_abschnitte = loader.load_and_split()\n",
    "    print(f\"Die Datei {pdf_datei} hat {len(pdf_abschnitte)} Abschnitte.\")"
   ],
   "metadata": {
    "collapsed": false,
    "ExecuteTime": {
     "end_time": "2023-12-22T21:34:51.088150Z",
     "start_time": "2023-12-22T21:34:48.386699Z"
    }
   },
   "id": "af43948a39d5070"
  },
  {
   "cell_type": "markdown",
   "source": [
    "#### Dokumente in Liste speichern\n",
    "\n",
    "Wir haben nun also den Inhalt der Dokumente geladen. Nun müssen wir die Dokumente noch speichern, beispielsweise in einer Liste `dokumente`:"
   ],
   "metadata": {
    "collapsed": false
   },
   "id": "958ca0ebef37216"
  },
  {
   "cell_type": "code",
   "execution_count": 14,
   "outputs": [
    {
     "name": "stdout",
     "output_type": "stream",
     "text": [
      "Die Datei data/Maschinelles Lernen – Wikipedia.pdf hat 5 Abschnitte.\n",
      "Die Datei data/Deep Learning – Wikipedia.pdf hat 9 Abschnitte.\n",
      "Wir haben insgesamt 14 Abschnitte.\n"
     ]
    }
   ],
   "source": [
    "dokumente = []\n",
    "\n",
    "for pdf_datei in pfad.glob(\"**/*.pdf\"):\n",
    "    loader = PyPDFLoader(str(pdf_datei))\n",
    "    pdf_abschnitte = loader.load_and_split()\n",
    "    print(f\"Die Datei {pdf_datei} hat {len(pdf_abschnitte)} Abschnitte.\")\n",
    "    dokumente.extend(pdf_abschnitte)\n",
    "\n",
    "print(f\"Wir haben insgesamt {len(dokumente)} Abschnitte.\")"
   ],
   "metadata": {
    "collapsed": false,
    "ExecuteTime": {
     "end_time": "2023-12-22T21:34:52.645233Z",
     "start_time": "2023-12-22T21:34:51.077534Z"
    }
   },
   "id": "67862c6cbd865afb"
  },
  {
   "cell_type": "markdown",
   "source": [
    "#### Dokumente ausgeben\n",
    "\n",
    "Nun können wir die Abschnitte anschauen indem wir auf die Liste zugreifen:"
   ],
   "metadata": {
    "collapsed": false
   },
   "id": "829e0ab46bd229b6"
  },
  {
   "cell_type": "code",
   "execution_count": 15,
   "outputs": [
    {
     "name": "stdout",
     "output_type": "stream",
     "text": [
      "Beispielabschnitt 1: page_content='22.12.2023, 11:12Maschinelles Lernen – Wikipedia\\nPage 1 of 5https://de.wikipedia.org/wiki/Maschinelles_LernenMaschinelles LernenMaschinelles Lernen (ML) ist ein Oberbegriff für die „künstliche“ Generierung von Wissenaus Erfahrung: Ein künstliches System lernt aus Beispielen und kann diese nach Beendigungder Lernphase verallgemeinern. Dazu bauen Algorithmen beim maschinellen Lernen einstatistisches Modell a u f ,  d a s  a u f  Trainingsdaten beruht und welches gegen die Testdatengetestet wird. Das heißt, es werden nicht einfach die Beispiele auswendig gelernt (sieheÜberanpassung), sondern Muster und Gesetzmäßigkeiten in den Lerndaten erkannt. So kanndas System auch unbekannte Daten beurteilen (Lerntransfer) oder aber am Lernenunbekannter Daten scheitern (Überanpassung; englisch overfitting).[1][2] Aus dem weitenSpektrum möglicher Anwendungen seien hier genannt: automatisierte Diagnoseverfahren,Erkennung von Kreditkartenbetrug, Aktienmarktanalysen, Klassifikation vonNukleotidsequenzen, Sprach- und Texterkennung sowie autonome Systeme.Das Thema ist eng verwandt mit „Knowledge Discovery in Databases“ und „Data-Mining“, beidem es jedoch vorwiegend um das Finden von neuen Mustern und Gesetzmäßigkeiten geht.Viele Algorithmen können für beide Zwecke verwendet werden. Methoden der „KnowledgeDiscovery in Databases“ können genutzt werden, um Lerndaten für „maschinelles Lernen“ zuproduzieren oder vorzuverarbeiten. Im Gegenzug dazu finden Algorithmen aus demmaschinellen Lernen beim Data-Mining Anwendung. Zu unterscheiden ist der Begriff zudemvon dem Begriff „Deep Learning“, welches nur eine mögliche Lernvariante mittels künstlicherneuronaler Netze darstellt.Das Schließen von Daten auf (hypothetische) Modelle wird als Statistische Inferenz bezeichnet.Symbolische und nicht-symbolische AnsätzeAlgorithmische AnsätzeÜberwachtes LernenUnüberwachtes LernenBestärkendes LernenAutomatisches Maschinelles LernenSiehe auchLiteraturWeblinksEinzelnachweiseInhaltsverzeichnis' metadata={'source': 'data/Maschinelles Lernen – Wikipedia.pdf', 'page': 0}\n",
      "\n",
      "\n",
      "Beispielabschnitt 2: page_content='22.12.2023, 11:12Maschinelles Lernen – Wikipedia\\nPage 2 of 5https://de.wikipedia.org/wiki/Maschinelles_LernenBeim maschinellen Lernen spielen Art und Mächtigkeit der Wissensrepräsentation einewichtige Rolle. Man unterscheidet zwischen symbolischen Ansätzen, in denen das Wissen –sowohl die Beispiele als auch die induzierten Regeln – explizit repräsentiert ist, und nicht-symbolischen Ansätzen, wie neuronalen Netzen, denen zwar ein berechenbares Verhalten„antrainiert“ wird, die jedoch keinen Einblick in die erlernten Lösungswege erlauben; hier istWissen implizit repräsentiert.[3]Bei den symbolischen Ansätzen werden aussagenlogische und prädikatenlogische Systemeunterschieden. Vertreter der ersteren sind ID3 und sein Nachfolger C4.5. Letztere werden imBereich der induktiven logischen Programmierung entwickelt.Die praktische Umsetzung geschieht mittels Algorithmen. Verschiedene Algorithmen aus demBereich des maschinellen Lernens lassen sich grob in drei Gruppen einteilen:[4] überwachtesLernen (englisch supervised learning), unüberwachtes Lernen (englisch unsupervisedlearning) und bestärkendes Lernen (engl. reinforcement learning).→ Hauptartikel: Überwachtes LernenDer Algorithmus lernt eine Funktion aus gegebenen Paaren von Ein- und Ausgaben. Dabei stelltwährend des Lernens ein „Lehrer“ den korrekten Funktionswert zu einer Eingabe bereit. Zielbeim überwachten Lernen ist, dass dem Netz nach mehreren Rechengängen mitunterschiedlichen Ein- und Ausgaben die Fähigkeit antrainiert wird, Assoziationenherzustellen. Ein Teilgebiet des überwachten Lernens ist die automatische Klassifizierung. EinAnwendungsbeispiel wäre die Handschrifterkennung.Es lassen sich noch einige Unterkategorien für Überwachtes Lernen identifizieren, die in derLiteratur häufiger erwähnt werden:Teilüberwachtes Lernen (englisch semi-supervised learning) Nur für einen Teil der Eingabensind die dazugehörigen Ausgaben bekannt.[5]Aktives Lernen (englisch active learning) Der Algorithmus hat die Möglichkeit, für einen Teilder Eingaben die korrekten Ausgaben zu erfragen. Dabei muss der Algorithmus die Fragenbestimmen, welche einen hohen Informationsgewinn versprechen, um die Anzahl derFragen möglichst klein zu halten.[6]Selbständiges Lernen (englisch self-training) Dieser Algorithmus kann in zwei wesentlicheKomponenten eingeteilt werden. Die erste Algorithmuskomponente (Lehrer) leitet auseinem bestehenden gelabelten Datensatz weitere Datensätze mit Pseudolabeln her. Diezweite Algorithmuskomponente lernt nun aus dem erweiterten gelabelten Datensatz undwendet gefundene Muster für ihr eigenes Modell an.[7]Symbolische und nicht-symbolische Ansätze\\nAlgorithmische AnsätzeÜberwachtes Lernen' metadata={'source': 'data/Maschinelles Lernen – Wikipedia.pdf', 'page': 1}\n"
     ]
    }
   ],
   "source": [
    "print(f\"Beispielabschnitt 1: {dokumente[0]}\\n\\n\")\n",
    "print(f\"Beispielabschnitt 2: {dokumente[1]}\")"
   ],
   "metadata": {
    "collapsed": false,
    "ExecuteTime": {
     "end_time": "2023-12-22T21:34:52.663239Z",
     "start_time": "2023-12-22T21:34:52.645034Z"
    }
   },
   "id": "f7c70f596618511b"
  },
  {
   "cell_type": "markdown",
   "source": [
    "#### Daten bereinigen\n",
    "\n",
    "Wie wir feststellen, sehen die Abschnitte noch nicht sehr schön aus. Wir könnten sie bereinigen, indem wir Sonderzeichen entfernen, fehlende Abstände einfügen, etc. Dies wäre aber ein ziemlicher Aufwand und wir allen es in diesem Workshop weg. Wenn wir aber künftig eine noch bessere Chat-Qualität wollen, könnten wir dies noch nachholen.\n",
    "\n",
    "## Grosse Datenmengen\n",
    "\n",
    "Wir haben nun sehr viel Text eingelesen. Leider können AI Chatbots nur mit einer begrenzten Menge an Text arbeiten. Wir müssen also die Datenmenge reduzieren. Dies können wir machen, indem wir die Texte in kleinere Abschnitte aufteilen. Nachfolgender Code teilt die Texte in Abschnitte von 1000 Zeichen auf, wobei die Abschnitte sich um 200 Zeichen überlappen. Später wählen wir dann die \"besten\" Abschnitte aus und übergeben sie dem Chatbot.\n"
   ],
   "metadata": {
    "collapsed": false
   },
   "id": "ea9c529e7ce222e8"
  },
  {
   "cell_type": "code",
   "execution_count": 16,
   "outputs": [
    {
     "name": "stdout",
     "output_type": "stream",
     "text": [
      "Wir haben insgesamt 55 Texte.\n"
     ]
    }
   ],
   "source": [
    "text_splitter = RecursiveCharacterTextSplitter(chunk_size=1000, chunk_overlap=200)\n",
    "texte = text_splitter.split_documents(dokumente)\n",
    "print(f\"Wir haben insgesamt {len(texte)} Texte.\")"
   ],
   "metadata": {
    "collapsed": false,
    "ExecuteTime": {
     "end_time": "2023-12-22T21:34:52.713800Z",
     "start_time": "2023-12-22T21:34:52.657473Z"
    }
   },
   "id": "7c8dbd44aa86c1a9"
  },
  {
   "cell_type": "markdown",
   "source": [
    "### Passendste Texte finden\n",
    "\n",
    "Denn passendsten Text direkt zu finden ist sehr schwierig. Wir können aber die passendsten Texte finden, indem wir die Texte mit einer Frage vergleichen. Dazu müssen wir die Texte in Vektoren umwandeln. Ein Vektor ist eine numerische Repräsentation eines Textes. Wir können dann die Ähnlichkeit zwischen der Frage und den Texten berechnen. Die Texte mit der höchsten Ähnlichkeit sollten dann die passendsten Texte sein.\n",
    "\n",
    "Zur Umwandlung der Texte in Vektoren verwenden wir ein Embedding-Modell von Hugging Face. Dieses Modell wurde mit sehr vielen Texten trainiert und kann daher Texte in Vektoren umwandeln."
   ],
   "metadata": {
    "collapsed": false
   },
   "id": "5d85e8ab73a8ff27"
  },
  {
   "cell_type": "code",
   "execution_count": 17,
   "outputs": [],
   "source": [
    "embedding_model = HuggingFaceEmbeddings(model_name=\"all-MiniLM-L12-v2\")"
   ],
   "metadata": {
    "collapsed": false,
    "ExecuteTime": {
     "end_time": "2023-12-22T21:35:17.208537Z",
     "start_time": "2023-12-22T21:34:52.677952Z"
    }
   },
   "id": "2181841106b2b138"
  },
  {
   "cell_type": "markdown",
   "source": [
    "##### Embeddings\n",
    "\n",
    "Nachfolgender Code wandelt einen Text in einen Vektor um. Wir können den Code ausführen und sehen, was passiert."
   ],
   "metadata": {
    "collapsed": false
   },
   "id": "bc0ddda28e25a608"
  },
  {
   "cell_type": "code",
   "execution_count": 18,
   "outputs": [
    {
     "name": "stdout",
     "output_type": "stream",
     "text": [
      "Der Text ist Page 1 of 5https://de.wikipedia.org/wiki/Maschinelles_LernenMaschinelles LernenMaschinelles Lernen (ML) ist ein Oberbegriff für die „künstliche“ Generierung von Wissenaus Erfahrung: Ein künstliches System lernt aus Beispielen und kann diese nach Beendigungder Lernphase verallgemeinern. Dazu bauen Algorithmen beim maschinellen Lernen einstatistisches Modell a u f ,  d a s  a u f  Trainingsdaten beruht und welches gegen die Testdatengetestet wird. Das heißt, es werden nicht einfach die Beispiele auswendig gelernt (sieheÜberanpassung), sondern Muster und Gesetzmäßigkeiten in den Lerndaten erkannt. So kanndas System auch unbekannte Daten beurteilen (Lerntransfer) oder aber am Lernenunbekannter Daten scheitern (Überanpassung; englisch overfitting).[1][2] Aus dem weitenSpektrum möglicher Anwendungen seien hier genannt: automatisierte Diagnoseverfahren,Erkennung von Kreditkartenbetrug, Aktienmarktanalysen, Klassifikation vonNukleotidsequenzen, Sprach- und Texterkennung sowie autonome\n",
      "\n",
      "\n",
      "Das dazugehörige Embedding besteht aus 384 Zahlen.\n",
      "\n",
      "\n",
      "Die Embeddings sind: [-0.022131377831101418, -0.002753881737589836, -0.04859206825494766, -0.014509876258671284, 0.0888923853635788, -0.018613353371620178, -0.013557438738644123, -0.005280930548906326, 0.023816822096705437, 0.15997299551963806, -0.004266470205038786, -0.06018949672579765, -0.007125504780560732, 0.02947388030588627, -0.05872776359319687, 0.07461415976285934, -0.03165435418486595, 0.03709171712398529, -0.0016410964308306575, -0.014801817014813423, 0.05787089839577675, 0.0631263256072998, -0.042150627821683884, 0.05038367584347725, -0.03743010386824608, 0.003076978260651231, -0.08733658492565155, 0.053614985197782516, 0.02870253287255764, -0.055281151086091995, -0.02538672275841236, -0.0482436902821064, 0.0877508670091629, -0.005949586629867554, 0.08045651018619537, 0.004754036199301481, 0.04629791900515556, -0.039176955819129944, -0.013836471363902092, 0.03396719694137573, -0.07669825851917267, 0.03862011432647705, -0.006920109502971172, 0.029613172635436058, 0.062293533235788345, 0.025112193077802658, -0.01280217245221138, 0.0477202832698822, -0.028922755271196365, -0.03286537528038025, -0.08495552092790604, -0.05755080282688141, -0.02944309636950493, -0.03255413845181465, -0.05786370113492012, -0.035215891897678375, 0.008098218590021133, -0.029312940314412117, -0.032071441411972046, 0.03298238664865494, -0.04367464408278465, -0.04734449088573456, -0.10699496418237686, -0.032651547342538834, -0.07575616985559464, 0.09633339196443558, 0.005219812970608473, -0.004400160163640976, 0.015375278890132904, 0.059730835258960724, -0.024921314790844917, -0.0640072152018547, -0.016036180779337883, 0.004417408723384142, 0.05147099494934082, 0.1107558086514473, 0.051509447395801544, 0.005720976274460554, -0.04081069678068161, -0.08945467323064804, -0.05232851579785347, -0.03323933109641075, 0.03776908293366432, 0.0008297946769744158, -0.007452432531863451, 0.029822155833244324, -0.06642305105924606, -0.008736548945307732, 0.07266724109649658, -0.08079720288515091, 0.00882622692734003, -0.054416459053754807, -0.07487814873456955, -0.03603428974747658, -0.05746961385011673, -0.06337461620569229, 0.0881311222910881, -0.03941052779555321, 0.010014855302870274, 0.03299584239721298, -0.07849719375371933, 0.009128912352025509, 0.04841308668255806, -0.012600336223840714, -0.07320942729711533, -0.05375044420361519, 0.025241270661354065, 0.00959809124469757, -0.057394180446863174, -0.08578889816999435, 0.07145274430513382, 0.005659086164087057, -0.049073394387960434, 0.11458438634872437, 0.03259105980396271, -0.005171000491827726, 0.05217805877327919, -0.02404419146478176, 0.0262447502464056, 0.0028626364655792713, -0.10959795862436295, 0.017284169793128967, 0.06147018447518349, 0.022232351824641228, -0.015407965518534184, -0.05375617370009422, -0.07238230854272842, 0.05306556448340416, -0.0196439940482378, 0.09097971022129059, -0.02217208221554756, 0.0033181949984282255, 0.018669402226805687, -0.03584917634725571, 0.06158949434757233, -0.012059157714247704, 0.002367455279454589, 0.06159871816635132, 0.03382030501961708, 0.03603369742631912, -0.008459428325295448, 0.050354793667793274, 0.06874113529920578, 0.014538377523422241, -0.02619936503469944, 0.0124204121530056, 0.011765474453568459, -0.0734361857175827, -0.03129129111766815, 0.06077811121940613, 0.00711013050749898, -0.17522868514060974, 0.011143490672111511, 0.08960635960102081, 0.06129826232790947, 0.03023518994450569, 0.016634861007332802, 0.034588489681482315, 0.06149411201477051, 0.019677629694342613, -0.031144676730036736, 0.0747343972325325, 0.06485108286142349, 0.02399664744734764, 0.002580037573352456, 0.021401289850473404, 0.029297640547156334, 0.03221268579363823, -0.0034166143741458654, 0.006930731702595949, -0.008763072080910206, 0.043022140860557556, -0.05432860553264618, 0.05042310059070587, -0.07682628929615021, 0.011513649486005306, -0.009980492293834686, -0.09117140620946884, -0.05060465261340141, -0.0005999598652124405, 0.05415032058954239, -0.03659434989094734, -0.007737195119261742, -0.019319552928209305, 0.030575739219784737, -0.03215033933520317, -0.005523769650608301, 0.03104160539805889, -0.04759519174695015, -0.033628325909376144, -0.06361671537160873, 0.10540340095758438, 0.08700825273990631, 0.007555917836725712, -0.061563313007354736, -0.12236364185810089, 0.012377409264445305, -0.01611717976629734, 0.07363653182983398, 0.044324103742837906, 0.02745971828699112, 0.11380808055400848, 0.00025931475101970136, 0.03902134671807289, -0.055388081818819046, -0.046496376395225525, 0.011018265970051289, 0.020731540396809578, 0.010589470155537128, 0.08788133412599564, -0.08838507533073425, -0.06465242058038712, -0.015345253050327301, -0.021633142605423927, 0.050991859287023544, 0.0963248461484909, -0.005552458111196756, -0.06933239102363586, -0.019371507689356804, -0.11907565593719482, -0.012168399058282375, 0.03646712377667427, 0.008511708118021488, -4.4963581865688885e-34, -0.10343919694423676, -0.023732652887701988, -0.007311807479709387, 0.016949454322457314, -0.07625170052051544, 0.0027899076230823994, -0.05157501995563507, -0.05177576094865799, 0.019326265901327133, -0.026784682646393776, 0.04773896560072899, -0.02361408993601799, -0.04066853225231171, 0.014376242645084858, 0.016214711591601372, -0.057738881558179855, -0.024480050429701805, 0.004056096076965332, -0.0017291438998654485, 0.013157933950424194, -0.050286516547203064, 0.038265835493803024, -0.06408888846635818, -0.013649947941303253, 0.032462116330862045, 0.06194062903523445, -0.015102733857929707, -0.023142846301198006, -0.04357157647609711, 0.0031638075597584248, 0.024034420028328896, -0.07469750195741653, 0.08507782220840454, -0.012232143431901932, 0.057638175785541534, -0.030841710045933723, 0.04183168336749077, -0.03157937526702881, -0.0032480789814144373, -0.07225304841995239, 0.0298903938382864, -0.015625091269612312, -0.07474163919687271, -0.018900161609053612, -0.008486919105052948, -0.04256967082619667, -0.04441840574145317, -0.09004314243793488, -0.02479061298072338, 0.0016392158577218652, -0.014428826048970222, -0.019516240805387497, -0.02118789404630661, -0.09691688418388367, -0.012315470725297928, -0.01620163954794407, -0.023840539157390594, 0.05117766931653023, 0.040417689830064774, 0.0008630796219222248, -0.008437504060566425, -0.035022128373384476, -0.02914033643901348, 0.0414445698261261, 0.010619866661727428, 0.026575032621622086, -0.007642664480954409, -0.03891559690237045, -0.00662041874602437, 0.06773939728736877, 0.061660151928663254, 0.12454457581043243, -0.02415494993329048, 0.031838636845350266, -0.06098238751292229, 0.002044589491561055, 0.09889111667871475, -0.09751074761152267, -0.07515912503004074, 0.01084914244711399, -0.016983212903141975, -0.06042211130261421, -0.01979760266840458, 0.0029635801911354065, 0.056092847138643265, -0.044898051768541336, 0.06704497337341309, -0.027190735563635826, 0.018734030425548553, -0.0928449034690857, 0.1033729612827301, -0.11751554161310196, 0.06849877536296844, 0.04613468796014786, -0.014589793048799038, 1.1474323619322824e-31, 0.06046256422996521, 0.031211774796247482, 0.00045903303544037044, 0.038500893861055374, -0.07421550899744034, -0.019256219267845154, 0.07029949128627777, 0.10125567018985748, -0.10162590444087982, 0.06998488306999207, 0.003865113714709878, -0.018767910078167915, 0.06102355197072029, 0.05288241058588028, -0.06452933698892593, 0.024177327752113342, 0.06164294108748436, 0.10778765380382538, -0.05297950655221939, -0.058582838624715805, 0.039966683834791183, -0.020932495594024658, -0.02314166910946369, -0.10243578255176544, -0.022222070023417473, -0.03923638537526131, -0.024870136752724648, 0.06291211396455765, -0.05399348959326744, 0.05144135653972626, -0.01393235381692648, -0.032107774168252945, -0.01259705238044262, 0.05162838101387024, 0.037753354758024216, -0.011871742084622383, -0.012514346279203892, 0.001128204632550478, -0.0026406636461615562, -0.07563783973455429, -0.03196277841925621, 0.00799194909632206, -0.02966930717229843, 0.015436897985637188, 0.04645613953471184, 0.03360353037714958, 0.008744626305997372, 0.02367454394698143, 0.0068633356131613255, 0.01242015790194273, -0.06461410969495773, 0.1273137927055359, 0.07768300175666809, -0.044825851917266846, -0.056265369057655334, -0.0479154959321022, -0.021813802421092987, -0.01908770762383938, -0.0041041262447834015, 0.009435802698135376, 0.0037120829802006483, -0.048103079199790955, 0.0640317052602768, -0.10819270461797714]\n",
      "\n"
     ]
    }
   ],
   "source": [
    "text = texte[1].page_content\n",
    "embeddings = embedding_model.embed_query(text)\n",
    "print(f\"Der Text ist {text}\\n\\n\")\n",
    "print(f\"Das dazugehörige Embedding besteht aus {len(embeddings)} Zahlen.\\n\\n\")\n",
    "print(f\"Die Embeddings sind: {embeddings}\\n\\n\")"
   ],
   "metadata": {
    "collapsed": false,
    "ExecuteTime": {
     "end_time": "2023-12-22T21:35:18.976064Z",
     "start_time": "2023-12-22T21:35:17.211835Z"
    }
   },
   "id": "ed6cfbba4dbf50af"
  },
  {
   "cell_type": "markdown",
   "source": [
    "##### Ähnlichkeit berechnen\n",
    "\n",
    "Wir können nicht nur unsere Texte in Vektoren umwandeln, sondern auch unsere Frage. Nachfolgender Code wandelt einige Fragen in Vektoren um.\n",
    "\n"
   ],
   "metadata": {
    "collapsed": false
   },
   "id": "7ee3b5c90925b70b"
  },
  {
   "cell_type": "code",
   "execution_count": 19,
   "outputs": [
    {
     "name": "stdout",
     "output_type": "stream",
     "text": [
      "[0.016348164528608322, 0.07882675528526306, -0.07482591271400452, -0.0021938441786915064, 0.08537105470895767, -0.011216996237635612, 0.09064827114343643, -0.0059546129778027534, -0.020593926310539246, 0.027389446273446083, 0.07856124639511108, -0.059821005910634995, -0.023347318172454834, 0.002888391725718975, 0.005058560520410538, 0.06167848780751228, 0.022173242643475533, 0.0005822244565933943, 0.011141336522996426, 0.002349942224100232, 0.025235360488295555, 0.048330795019865036, -0.001731499214656651, 0.03596062585711479, 0.009703429415822029, -0.007409883663058281, -0.06871512532234192, 0.06931060552597046, 0.006244503892958164, -0.029125872999429703, -0.01998313143849373, 0.005019029136747122, 0.011698252521455288, 0.006124090403318405, 0.059084873646497726, 0.013999685645103455, 0.0544530488550663, -0.009871856309473515, -0.03015260584652424, 0.039361633360385895, -0.06221501901745796, 0.009901836514472961, 0.08363743126392365, -0.02924622781574726, 0.03317079320549965, -0.007532163523137569, 0.02441524900496006, 0.0724891722202301, 0.02252689190208912, -0.04963183030486107, -0.03258349746465683, 0.008432770147919655, -0.00412664283066988, -0.07171624898910522, -0.0004086212138645351, 0.03080514445900917, -0.040573373436927795, -0.12322361767292023, -0.07256109267473221, 0.00495460070669651, -0.047443270683288574, -0.053088534623384476, -0.10980350524187088, -0.06513597816228867, -0.10068561881780624, -0.0030557129066437483, -0.013300299644470215, -0.03017781302332878, 0.0170041061937809, 0.028119755908846855, 0.004146013408899307, -0.06221449375152588, 0.06356947124004364, -0.027900390326976776, -0.007563539315015078, 0.004533725790679455, 0.024123134091496468, -0.047055210918188095, -0.09192419052124023, -0.04065833240747452, -0.07358509302139282, -0.07334698736667633, 0.08282574266195297, -0.03083455003798008, -0.03113674558699131, -0.008831985294818878, -0.018783098086714745, 0.010908341035246849, 0.04310860112309456, -0.05662061646580696, -0.004630222450941801, -0.008181107230484486, -0.033439818769693375, -0.07171747088432312, -0.03183320537209511, -0.027330636978149414, 0.05060384422540665, -0.035337578505277634, -0.06374094635248184, 0.09760107100009918, 0.02300536260008812, -0.000918913574423641, 0.07703706622123718, -0.000908929854631424, -0.0382208377122879, 0.004014565143734217, 0.03692463040351868, 0.019679686054587364, -0.05014857277274132, -0.02777237258851528, 0.07958019524812698, -0.025477299466729164, -0.053819142282009125, 0.07623503357172012, 0.0075589013285934925, -0.015328926034271717, 0.018435433506965637, 0.001569851185195148, 0.007944685406982899, -0.018644511699676514, -0.03860883042216301, 0.06066720932722092, 0.08501733839511871, 0.017066577449440956, -0.03220326080918312, -0.07389216125011444, 0.030075492337346077, 0.0552932471036911, 0.03243252635002136, 0.07036716490983963, -0.01567639224231243, 0.03330252692103386, 0.049504172056913376, -0.010241840966045856, 0.07622422277927399, -0.0010629965690895915, -0.047242458909749985, 0.00840055663138628, 0.02646404318511486, -0.06737916171550751, -0.026947805657982826, -0.0462566576898098, 0.0769803375005722, -0.007482440210878849, 0.0032873284071683884, -0.02391909994184971, 0.09727180749177933, -0.006950345356017351, 0.0032256843987852335, 0.06995950639247894, 0.013109748251736164, -0.18621788918972015, 0.01602819748222828, -0.007593910209834576, 0.02528625726699829, 0.07118980586528778, -0.04145211726427078, 0.018559390679001808, 0.07255624234676361, -0.0555235855281353, -0.03540629521012306, 0.04393287003040314, 0.04647335037589073, 0.037166863679885864, 0.012789782136678696, 0.05399266630411148, -0.021120989695191383, 0.04792966693639755, -0.04329540953040123, -0.05969829484820366, -0.013700469397008419, 0.07124011218547821, -0.024867046624422073, 0.10069773346185684, -0.09546960890293121, -0.01599942147731781, -0.02496391348540783, -0.07164430618286133, -0.02649756520986557, 0.015155485831201077, 0.07350623607635498, -0.019893156364560127, -0.027410829439759254, 0.06794185936450958, -0.03215774893760681, 0.025334496051073074, -0.01955808326601982, 0.055559609085321426, -0.005165436305105686, 0.04012332856655121, -0.07501007616519928, 0.07035430520772934, 0.04706348106265068, -0.017693625763058662, -0.02999846823513508, -0.0552496537566185, -0.007162963505834341, 0.007995362393558025, 0.0031790458597242832, -0.0123590137809515, 0.06650350242853165, 0.09298138320446014, -0.03771895915269852, 0.02326776832342148, -0.03256906569004059, -0.0188473891466856, -0.021875811740756035, -0.024101097136735916, 0.0705612301826477, 0.013343589380383492, 0.005208880640566349, -0.005956784822046757, 0.013436602428555489, -0.016769999638199806, 0.03207770735025406, 0.09981533139944077, 0.03501713275909424, -0.00011578181874938309, -0.09395278245210648, -0.05772528052330017, -0.010449159890413284, -0.03094019554555416, -0.12302723526954651, -2.0305808544453343e-34, -0.06261973828077316, -0.0038484015967696905, -0.03896132856607437, 0.013345816172659397, -0.014870705083012581, 0.049362052232027054, -0.008586655370891094, -0.043173737823963165, -0.05473102629184723, -0.04991604760289192, 0.031380727887153625, 0.033368781208992004, 0.11290381848812103, 0.03125768154859543, 0.04865077883005142, -0.04158306494355202, -0.0187333133071661, 0.01485484279692173, -0.04766221344470978, -0.04512063413858414, -0.028415825217962265, 0.032719142735004425, 0.01335868239402771, 0.028541050851345062, 0.03924733027815819, 0.03955364227294922, 0.0037889236118644476, 0.02160470373928547, -0.13522151112556458, -0.013772876001894474, 0.04318022355437279, -0.09110676497220993, 0.05147222429513931, -0.004897671286016703, 0.06380555778741837, 0.0014203398022800684, 0.11251964420080185, -0.05813926085829735, -0.055048491805791855, -0.0046549770049750805, -0.024354558438062668, 0.006558130495250225, -0.040649883449077606, 0.05079424008727074, -0.038836441934108734, 0.027744483202695847, -0.055845241993665695, -0.06332051008939743, 0.024653645232319832, 0.015430843457579613, -0.003870174055919051, -0.004387282766401768, 0.0179120022803545, -0.07198062539100647, -0.008225886151194572, -0.04810409992933273, -0.07795235514640808, 0.03674442693591118, 0.010363344103097916, 0.019759656861424446, 0.02690604142844677, -0.06691232323646545, -0.020039260387420654, 0.03458128869533539, 0.0994868278503418, 0.01078945305198431, -0.053385958075523376, -0.10180332511663437, 0.001645810785703361, 0.0817909687757492, 0.05347241088747978, 0.06383929401636124, -0.07112366706132889, -0.02985849231481552, -0.024259746074676514, -0.01737242192029953, 0.06182226166129112, -0.1000504344701767, -0.027949195355176926, 0.011038736440241337, 0.07687319070100784, -0.13476350903511047, 0.01942306011915207, -0.041177380830049515, 0.013687864877283573, -0.028118211776018143, 0.0569932758808136, -0.017912212759256363, -0.020506437867879868, -0.05764327570796013, 0.08542502671480179, -0.05888727679848671, 0.04407775402069092, -0.023720985278487206, 0.01882193237543106, 4.394836010845847e-32, 0.10094259679317474, 0.023557638749480247, -0.0900367870926857, 0.0076654767617583275, -0.05082773044705391, -0.06222233921289444, 0.10288453847169876, 0.07430064678192139, -0.02373703196644783, 0.182733416557312, -0.10285285860300064, 0.003705663839355111, 0.04400007426738739, -0.0023363360669463873, 0.00029895902844145894, 0.008994176983833313, 0.041208840906620026, 0.04926185682415962, -0.0536465160548687, -0.09818576276302338, 0.05963649973273277, 0.00861253123730421, -0.11208072304725647, -0.09951470047235489, -0.0241361353546381, -0.0068869823589921, -0.014861125499010086, 0.07315674424171448, -0.021001383662223816, 0.04933272674679756, 0.017412522807717323, -0.05843711644411087, -0.049965254962444305, 0.05344444513320923, -0.006013680715113878, -0.07518603652715683, -0.035883113741874695, 0.006597149185836315, 0.027971548959612846, -0.0561462827026844, 0.007349247112870216, 0.07412419468164444, -0.00469447486102581, 0.01327686570584774, 0.06155920401215553, 0.002789110643789172, 0.041990261524915695, 0.06915965676307678, 0.026726236566901207, 0.035751741379499435, -0.0845988392829895, 0.13791286945343018, 0.08547420799732208, -0.05469338595867157, -0.06725732982158661, -0.024435030296444893, 0.015369242057204247, -0.02550879307091236, -0.0018234351882711053, 0.0065746009349823, -0.03618071228265762, 0.013680174946784973, 0.03237202391028404, -0.07309162616729736]\n",
      "[-0.01553150825202465, 0.09410205483436584, -0.07676354050636292, 0.03545258194208145, -0.0535908080637455, -0.011709386482834816, 0.0065514277666807175, 0.00796294305473566, 0.018381040543317795, 0.010818090289831161, -0.06594882160425186, -0.0022844895720481873, -0.020639922469854355, -0.021547311916947365, 0.1186317577958107, 0.039083823561668396, -0.03154468536376953, 0.03513100743293762, 0.019822122529149055, 0.04302919656038284, 0.06511300057172775, 0.06345099210739136, -0.06227659806609154, -0.009378365240991116, 0.003420403925701976, 0.09466193616390228, -0.05750541388988495, -0.027271701022982597, -0.004186888691037893, -0.023960815742611885, 0.0002119448035955429, -0.035519521683454514, -0.02507040835916996, -0.0351177416741848, 0.0804341733455658, -0.1175922378897667, 0.0744117796421051, 0.02088356576859951, 0.0636909231543541, 0.03081834688782692, 0.0013214598875492811, 0.006003187503665686, -0.04029487445950508, -0.007722580339759588, 0.01807694137096405, -0.021287668496370316, 0.0627940446138382, 0.0822092816233635, 0.03581919148564339, -0.019297195598483086, -0.030848607420921326, -0.010695069096982479, -0.043576713651418686, -0.0033055967651307583, -0.009858759120106697, -0.00862877443432808, -0.01945069059729576, -0.043856050819158554, -0.007111250888556242, 0.05414082482457161, 0.0035516375210136175, -0.04036133736371994, -0.05692988634109497, 0.06748975813388824, -0.03491729125380516, -0.049787528812885284, 0.014929011464118958, -0.06124575063586235, 0.017393596470355988, -0.005757499020546675, -0.016948839649558067, -0.019496282562613487, 0.04678431153297424, 0.023817362263798714, -0.0007327226921916008, -0.02030860260128975, -0.0031316776294261217, 0.022960513830184937, -0.051561370491981506, 0.012998158112168312, -0.07306408137083054, -0.13874393701553345, -0.046667344868183136, 0.01655656285583973, -0.04028214514255524, -0.07056435942649841, -0.005738375708460808, -0.02939656935632229, 0.034860990941524506, 0.0022403132170438766, 0.029123639687895775, -0.01585368625819683, 0.09385412931442261, -0.014596867375075817, 0.04568162560462952, -0.11035622656345367, -0.09071917086839676, 0.04109485074877739, 0.006973424926400185, 0.05623522400856018, 0.03447411581873894, -0.013802982866764069, 0.01860027015209198, 0.092061348259449, 0.07203920930624008, 0.02558647096157074, -0.05125248804688454, -0.0921003520488739, -0.054749127477407455, 0.011790548451244831, 0.024396905675530434, -0.005781835876405239, -0.002452646614983678, 0.08256866037845612, 0.009596779942512512, -0.10135888308286667, -0.017921460792422295, -0.012190986424684525, 0.06866925954818726, -0.008009687066078186, -0.0330057330429554, -0.07213834673166275, 0.07044613361358643, -0.009589933790266514, -0.004631878808140755, -0.026648705825209618, -0.0017435953486710787, 0.01769493706524372, -0.05970650538802147, -0.13257110118865967, 0.0003165931557305157, -0.12326891720294952, 0.03281015530228615, -0.03100581467151642, -0.04594632610678673, -0.06226784735918045, -0.06098807975649834, 0.052344728261232376, 0.06417740881443024, 0.012339437380433083, 0.016963284462690353, 0.061482831835746765, 0.030869342386722565, 0.051851775497198105, -0.013539217412471771, 0.005850095301866531, 0.098111093044281, 0.08052948117256165, -0.016453435644507408, 0.026088431477546692, 0.15995123982429504, -0.060856111347675323, 0.03460700437426567, 0.088267982006073, -7.862108759582043e-05, 0.08269655704498291, 0.022960258647799492, 0.03204385191202164, 0.00041362273623235524, 0.036151815205812454, -0.059870798140764236, 0.033276185393333435, -0.00925846304744482, 0.03787678852677345, 0.024095941334962845, -0.0019854640122503042, 0.05986308306455612, -0.06508435308933258, 0.09500642865896225, 0.04099198058247566, -0.0931835025548935, -0.12537193298339844, 0.0208911020308733, 0.01878580078482628, 0.020859433338046074, -0.0022079746704548597, 0.018823375925421715, -0.015395153313875198, -0.048439428210258484, -0.0779658704996109, 0.10147370398044586, -0.047176964581012726, -0.06390451639890671, 0.027540363371372223, -0.02015571855008602, -0.00849713571369648, -0.014141116291284561, 0.014033500105142593, -0.010893035680055618, 0.10621792078018188, 0.013570730574429035, 0.01742936484515667, 0.09668675810098648, 0.06543691456317902, -0.02392635866999626, -0.038578134030103683, -0.029587138444185257, 0.014167005196213722, -0.0799531489610672, -0.10377302765846252, 0.012479254975914955, 0.08264657109975815, 0.002215272979810834, 0.019282564520835876, -0.0859808623790741, -0.08798518031835556, -0.002769347047433257, 0.03779856860637665, 0.0432913713157177, 0.10792439430952072, 0.04845714196562767, -0.04017380625009537, -0.06297028809785843, 0.024728473275899887, -0.059919118881225586, 0.0460282601416111, 0.01326034963130951, 0.0747305303812027, -0.07394874840974808, 0.037617966532707214, 0.02323872596025467, 0.061347078531980515, -0.003941179718822241, 2.5080928328657526e-35, -0.04059935733675957, 0.02716420404613018, 0.04393221437931061, -0.04390649124979973, -0.002125493483617902, -0.05361863225698471, -0.07065483182668686, -0.028357451781630516, -0.08331592381000519, 0.06427924335002899, 0.06173795089125633, 0.042672447860240936, 0.05965358763933182, -0.0300894808024168, 0.07526475936174393, 0.005342267919331789, 0.04080010578036308, -0.0847768485546112, 0.00694593321532011, -0.07407356053590775, 0.04969458281993866, 0.1105710119009018, 0.1326211392879486, 0.01729390397667885, -0.08931035548448563, 0.023539159446954727, 0.0380382239818573, -0.06363731622695923, -0.022559307515621185, -0.049651503562927246, -0.02226438745856285, 0.06300874799489975, 0.03478146344423294, 0.00010369037045165896, 0.07599945366382599, 0.029362265020608902, -0.012066245079040527, 0.045675747096538544, 0.006825496908277273, -0.0042223804630339146, -0.0388178788125515, 0.04059063270688057, -0.0372614860534668, 0.020644837990403175, 0.04039650410413742, 0.04474413022398949, 0.021282624453306198, -0.03626429662108421, -0.032682206481695175, -0.011876123957335949, -0.06350027769804001, -0.024109743535518646, -0.0753801241517067, -0.008315700106322765, -0.0382087342441082, 0.006776962894946337, 0.0023544463329017162, 0.03292062133550644, 0.045054152607917786, 0.10734406858682632, 0.06998098641633987, -0.03656117618083954, 0.022928807884454727, 0.04907535761594772, 0.08068474382162094, 0.005678593181073666, -0.028872938826680183, -0.12631945312023163, 0.025380413979291916, 0.04939267784357071, 0.04782681167125702, -0.0018597051966935396, -0.08246485888957977, -0.04909827932715416, -0.02682146430015564, 0.061928439885377884, -0.03131342679262161, -0.005543080624192953, -0.027364972978830338, 0.002068175934255123, -0.03591097146272659, -0.026495816186070442, 0.00936961267143488, 0.027881987392902374, -0.08032222837209702, -0.06711368262767792, -0.0005497673409990966, 0.016062099486589432, -0.0055866544134914875, -0.11360154300928116, 0.018344037234783173, -0.0497514009475708, -0.025638790801167488, -0.020352613180875778, 0.04849109426140785, 5.045856520678702e-32, 0.007262249477207661, 0.04997765272855759, -0.016856102272868156, 0.0765879899263382, 0.014281499199569225, 0.016478609293699265, -0.06339779496192932, -0.01038375310599804, -0.007723021786659956, 0.026965651661157608, -0.043258797377347946, -0.011264719069004059, -0.005793388932943344, -0.006489392835646868, 0.07966654747724533, 0.011120755225419998, 0.02868504449725151, 0.055642738938331604, 0.019696727395057678, -0.0712255910038948, 0.0552971176803112, -0.010323344729840755, -0.04829895496368408, -0.02004958502948284, -0.06751449406147003, 0.005750146694481373, 0.0047446079552173615, 0.02425183355808258, -0.014906249940395355, -0.12006636708974838, -0.012118302285671234, -0.043790336698293686, -0.0008141167345456779, -0.031227095052599907, -0.020428776741027832, -0.13046906888484955, -0.017546938732266426, -0.06962800025939941, 0.02434205636382103, -0.10949073731899261, 0.02507576160132885, -0.04128699749708176, -0.00022610292944591492, -0.003132017096504569, 0.030008479952812195, 0.05668092146515846, 0.045054249465465546, 0.0009569836547598243, -0.04132918640971184, -0.03337964043021202, -0.049240365624427795, 0.03760850429534912, -0.004049750976264477, -0.06032085791230202, -0.05132757127285004, 0.022926662117242813, 0.029774392023682594, -0.033656079322099686, -0.0333213247358799, 0.09470311552286148, 0.031517431139945984, -0.00789720006287098, -0.04755925387144089, -0.09191177040338516]\n",
      "[-0.005499177612364292, 0.1948811560869217, -0.011526181362569332, 0.041534338146448135, -0.05921653285622597, -0.05231930688023567, 0.08414588868618011, 0.06604603677988052, -0.02780229039490223, -0.02498714253306389, 0.060027770698070526, -0.039824992418289185, 0.04204639047384262, -0.017056643962860107, 0.12809912860393524, 0.003636288922280073, 0.006750429514795542, 0.032816894352436066, -0.002487143501639366, 0.06945309787988663, -0.06022205203771591, -0.08185924589633942, 0.02794421650469303, 0.03385310620069504, 0.08760655671358109, 0.0030497347470372915, 0.0669386237859726, -0.0028372439555823803, 0.00047831295523792505, 0.0031867995858192444, 0.045441582798957825, -0.033495862036943436, -0.05135335400700569, -0.05135282129049301, 0.044333409518003464, -0.04297949746251106, 0.12683923542499542, -0.04867275804281235, 0.007014310918748379, 0.023965639993548393, -0.05852895602583885, -0.01803343929350376, -0.033951111137866974, -0.08543060719966888, 0.030198434367775917, -0.012738095596432686, -0.0462716780602932, 0.05381269380450249, -0.07789234071969986, -0.04553854465484619, -0.04533160477876663, -0.005531588103622198, -0.015585844404995441, 0.005964870564639568, 0.09222877025604248, -0.06491319835186005, -0.009989522397518158, -0.031694844365119934, 0.0021171753760427237, 0.02679351530969143, -0.00666973227635026, 0.002337926533073187, 0.06138782948255539, 0.011957894079387188, 0.01817951537668705, -0.03218274191021919, 0.06344009935855865, -0.009062121622264385, -0.0008873008191585541, 0.023644546046853065, 0.02185114100575447, -0.0678146556019783, 0.01437037531286478, 0.013654609210789204, 0.055498141795396805, -0.028726862743496895, -0.03344729542732239, -0.04949725419282913, -0.1387917399406433, -0.02603323385119438, 0.010612874291837215, -0.07603957504034042, -0.0164637491106987, -0.02065182663500309, 0.004233344458043575, 0.05337496101856232, 0.021684199571609497, 0.0009311652393080294, -0.03609892353415489, -0.008834028616547585, 0.006448474247008562, -0.11137573421001434, -0.028668850660324097, 0.024669848382472992, 0.038746267557144165, 0.0021630763076245785, -0.008642981760203838, -0.056345172226428986, -0.04531555622816086, 0.058771006762981415, 0.05536988005042076, -0.11052641272544861, -0.058949701488018036, -0.004722848068922758, 0.013186291791498661, 0.02942230924963951, 0.06763415783643723, 0.011919028125703335, -0.0286893118172884, 0.031569745391607285, -0.09080526977777481, 0.04495788738131523, -0.0716152936220169, 0.12162353098392487, 0.0432489775121212, 0.047485798597335815, 0.07052499055862427, -0.07410271465778351, 0.1045830249786377, -0.0021612769924104214, -0.0006379253463819623, 0.01089510414749384, 0.046719029545784, -0.002112444955855608, -0.048197101801633835, -0.010136173106729984, 0.017122473567724228, 0.02446093037724495, -0.04955575615167618, -0.018628956750035286, -0.03729621693491936, -0.08519291132688522, -0.039699506014585495, 0.019155319780111313, 0.10326793789863586, -0.018564853817224503, -0.011060917750000954, 0.0007245836313813925, -0.06880533695220947, -0.029050558805465698, 0.050923801958560944, -0.07704628258943558, -0.047751396894454956, -0.06994552165269852, 0.014653155580163002, -0.057845525443553925, 0.06314142793416977, 0.024001413956284523, -0.12935848534107208, -0.004697844386100769, -0.02820882759988308, -0.026236388832330704, 0.03164661303162575, 0.0296213086694479, 0.005742413457483053, -0.04202263057231903, 0.005656955298036337, -0.05942552164196968, 0.1170223131775856, 0.058940138667821884, 0.038379549980163574, 0.08108439296483994, -0.1019878089427948, -0.029358120635151863, -0.008189604617655277, 0.021752437576651573, -0.06792330741882324, -0.00966629758477211, -0.011236235499382019, -0.03460240364074707, 0.009792404249310493, -0.050888542085886, -0.08087755739688873, 0.12006610631942749, 0.018792565912008286, 0.019967004656791687, -0.0366370752453804, 0.03801695257425308, 0.0010415575234219432, -0.08795952051877975, -0.0088644502684474, 0.010865502990782261, 0.035307008773088455, -0.036153268069028854, -0.04006672278046608, -0.02796713262796402, -0.02546021342277527, 0.019850080832839012, -0.04075995087623596, 0.029056863859295845, 0.04642360657453537, 0.027230609208345413, 0.02393871173262596, 0.0011826164554804564, -0.004143937490880489, 0.02639460377395153, -0.01648562029004097, 0.07021253556013107, -0.08203242719173431, 0.030950073152780533, -0.005714531056582928, 0.0120680658146739, -0.02074296399950981, 0.02287161909043789, -0.01889079622924328, 0.05582756549119949, -0.05959285795688629, 0.009571664035320282, 0.07494670897722244, 0.0006564251962117851, -0.004942802712321281, 0.014262274838984013, -0.08579681813716888, -0.11621790379285812, -0.05846173316240311, -0.025592990219593048, -0.02251012809574604, 0.025395089760422707, -0.0663432627916336, 0.045726291835308075, 0.035393573343753815, -0.004576653707772493, -0.11604569852352142, -6.041982188509017e-33, -0.004792279098182917, 0.027370313182473183, -0.04545718804001808, 0.0033444054424762726, 0.04519594833254814, 0.06452469527721405, 0.0121427858248353, 0.00447883503511548, -0.06845694035291672, 0.021481037139892578, -0.01891874521970749, 0.006449000909924507, 0.05661778524518013, -0.04677526652812958, -0.026990441605448723, 0.012531670741736889, 0.047960758209228516, -0.0691634938120842, 0.0028034455608576536, 0.037695664912462234, 0.008073206059634686, 0.036110326647758484, 0.00708170048892498, 0.14708346128463745, -0.07539957761764526, 0.019191982224583626, -0.031009282916784286, -0.06056678295135498, -0.02965620905160904, 0.04922902584075928, 0.04485483095049858, 0.07084119319915771, 0.09107070416212082, -0.050966776907444, 0.043273624032735825, -0.0854337215423584, 0.07132557034492493, 0.10542047768831253, -0.03211639076471329, 0.002421201206743717, -0.09494651854038239, 0.06965616345405579, -0.04079775512218475, 0.045665860176086426, 0.042347364127635956, -0.04501688852906227, 0.007322014309465885, -0.0985262393951416, 0.06535270810127258, -0.043309424072504044, 0.020440373569726944, -0.029104555025696754, -0.014505073428153992, 0.02153451181948185, 0.032812345772981644, 0.04240834340453148, -0.06752879917621613, -0.019071780145168304, -0.01726197637617588, 0.02661326713860035, 0.043257202953100204, 0.02422371320426464, 0.022824706509709358, 0.0017586611211299896, 0.010678127408027649, -0.00445811590179801, 0.024124229326844215, 0.0473308339715004, -0.0856531411409378, 0.05372735857963562, 0.06502770632505417, -0.06699685752391815, -0.018574561923742294, 0.01656125672161579, -0.06609763205051422, 0.01751302182674408, 0.0382036529481411, 0.01493870560079813, -0.11281729489564896, 0.1277027577161789, 0.037556443363428116, -0.001632833736948669, -0.09340085834264755, -0.08770095556974411, -0.017188113182783127, -0.044368110597133636, 0.052638404071331024, 0.04926355555653572, 0.01219387911260128, 0.0655243992805481, -0.010486272163689137, -0.0003675546031445265, 0.01129638310521841, -0.026707248762249947, -0.0051407054997980595, 5.060154058467754e-32, -0.019835837185382843, 0.01896580681204796, -0.018841862678527832, -0.0010276793036609888, -0.07835575938224792, -0.051979951560497284, -0.023526357486844063, -0.02945159375667572, -0.02296432852745056, 0.010726477950811386, 0.04868612065911293, -0.0029241207521408796, -0.05644596368074417, 0.002225660253316164, -0.02197541669011116, 0.00607889611274004, -0.028988733887672424, 0.03268224373459816, -0.0421610064804554, -0.11667286604642868, -0.01349045243114233, -0.025138000026345253, -0.02219413034617901, -0.02929985336959362, -0.056888069957494736, -0.04385923221707344, -0.056402333080768585, 0.0644490048289299, -0.047619692981243134, -0.04728148505091667, 0.03884689137339592, 0.061308395117521286, 0.03493952378630638, -0.012260327115654945, -0.09243647009134293, 0.015210716985166073, 0.05816037207841873, 0.07855504751205444, -0.018609508872032166, -0.006045727524906397, 0.00959139782935381, -0.018296392634510994, 0.01867283135652542, 0.007613663095980883, 0.03483330085873604, 0.10337775945663452, -0.07958152145147324, 0.001773403026163578, -0.00653034308925271, 0.05018231272697449, -0.012309337966144085, 0.07885550707578659, -0.0034691228065639734, 0.0040399665012955666, 0.07570186257362366, -0.02575474977493286, -0.026281079277396202, -0.04976144805550575, -0.05979236587882042, 0.09473436325788498, 0.009266740642488003, -0.11177698522806168, 0.04135970026254654, 0.081929050385952]\n"
     ]
    }
   ],
   "source": [
    "embedded_frage_1 = embedding_model.embed_query(\"Was ist maschinelles Lernen?\")\n",
    "print(embedded_frage_1)\n",
    "embedded_frage_2 = embedding_model.embed_query(\"Was ist die Eingangsschicht und die Ausgabeschicht?\")\n",
    "print(embedded_frage_2)\n",
    "embedded_frage_3 = embedding_model.embed_query(\"Trinkt die Kuh Milch oder Wasser?\")\n",
    "print(embedded_frage_3)"
   ],
   "metadata": {
    "collapsed": false,
    "ExecuteTime": {
     "end_time": "2023-12-22T21:35:19.136629Z",
     "start_time": "2023-12-22T21:35:18.980505Z"
    }
   },
   "id": "4bb341ba3dc10c38"
  },
  {
   "cell_type": "markdown",
   "source": [
    "Wir berechnen mithilfe der Kosinus-Ähnlichkeit einen Ähnlichkeitswert zwischen den Fragen und den Texten. Die Kosinus-Ähnlichkeit ist eine Metrik, welche die Ähnlichkeit zwischen zwei Vektoren berechnet. Je höher die Ähnlichkeit, desto ähnlicher sind sich die Vektoren. Nachfolgender Code berechnet die Ähnlichkeit zwischen den Fragen und den Texten."
   ],
   "metadata": {
    "collapsed": false
   },
   "id": "61ee8392a88a13a7"
  },
  {
   "cell_type": "code",
   "execution_count": 20,
   "outputs": [
    {
     "name": "stdout",
     "output_type": "stream",
     "text": [
      "0.6382432000113696\n",
      "0.18115521689508196\n",
      "0.04515785462771319\n"
     ]
    }
   ],
   "source": [
    "import numpy as np\n",
    "\n",
    "def cosine_similarity(a, b):\n",
    "    return np.dot(a, b) / (np.linalg.norm(a) * np.linalg.norm(b))\n",
    "\n",
    "print(cosine_similarity(embeddings, embedded_frage_1))\n",
    "print(cosine_similarity(embeddings, embedded_frage_2))\n",
    "print(cosine_similarity(embeddings, embedded_frage_3))"
   ],
   "metadata": {
    "collapsed": false,
    "ExecuteTime": {
     "end_time": "2023-12-22T21:35:19.164219Z",
     "start_time": "2023-12-22T21:35:19.092366Z"
    }
   },
   "id": "10569a3ca81b5ccc"
  },
  {
   "cell_type": "markdown",
   "source": [
    "## Vektoren speichern\n",
    "\n",
    "Das Berechnen der Vektoren ist sehr aufwendig. Wir können die Vektoren aber speichern, so dass wir sie nicht jedes mal neu berechnen müssen. Nachfolgender Code speichert die Vektoren unserer Texte in einer Datenbank, so dass wir künftig nur noch die Vektoren der Frage berechnen müssen.\n",
    "\n",
    "Wir verwenden dazu das Paket `FAISS`. Dieses Paket beinhaltet eine sehr effiziente Datenbank die grosse Datenmengen speichern kann. Zudem kann es sehr schnell die Ähnlichkeit zwischen Vektoren berechnen.\n"
   ],
   "metadata": {
    "collapsed": false
   },
   "id": "ac86fd3789288c23"
  },
  {
   "cell_type": "code",
   "execution_count": 21,
   "outputs": [],
   "source": [
    "datenbank = FAISS.from_documents(texte, embedding=embedding_model)\n",
    "datenbank.save_local(\"data/index.faiss\")"
   ],
   "metadata": {
    "collapsed": false,
    "ExecuteTime": {
     "end_time": "2023-12-22T21:35:21.860307Z",
     "start_time": "2023-12-22T21:35:19.103743Z"
    }
   },
   "id": "67901fd069679a26"
  },
  {
   "cell_type": "markdown",
   "source": [
    "Die Texte sind nun in einer Datenbank gespeichert. Wir können sie nun laden und die Ähnlichkeit zwischen den Texten und einer Frage berechnen."
   ],
   "metadata": {
    "collapsed": false
   },
   "id": "b445f2f0ad247757"
  },
  {
   "cell_type": "code",
   "execution_count": 22,
   "outputs": [
    {
     "data": {
      "text/plain": "[Document(page_content='eine Teilmenge des maschinellen Lernens, nutzt eine Reihe hierarchischer Schichten bzw. eineHierarchie von Konzepten, um den Prozess des maschinellen Lernens durchzuführen. Die hierbei benutzten künstlichen neuronalen Netze sind wie das menschliche Gehirn gebaut, wobei die Neuronen wie ein Netz miteinander verbunden sind. Die ersteSchicht des neuronalen Netzes, die sichtbare Eingangsschicht, verarbeitet eine Rohdateneingabe, wie beispielsweise die einzelnen Pixel eines Bildes. Die Dateneingabe enthält Variablen, die der Beobachtung zugänglich sind, daher „sichtbare Schicht“. [3] Diese erste Schicht leitet ihre Ausgaben an die nächste Schicht weiter. Diese zweite Schicht verarbeitet die Informationen der vorherigen Schicht und gibt das Ergebnis ebenfalls weiter. Die nächste', metadata={'source': 'data/Deep Learning – Wikipedia.pdf', 'page': 0}),\n Document(page_content='| Quelltext bearbeiten]Tiefe neuronale Netze können eine Komplexität von bis zu hundert Millionen einzelnen Parametern und zehn Milliarden Rechenoperationen pro Eingangsdatum aufweisen. Die Interpretierbarkeit der Parameter und Erklärbarkeit des Zustandekommens derErgebnisse ist hier nur noch eingeschränkt möglich und erfordert den Einsatz spezieller Techniken, die unter Explainable Artiﬁcial Intelligence zusammengefasst werden. Ein weiterer Ansatz ist die Verwendung von Methoden aus der Physik von Vielteilchensysteme (Statistische Physik).[28] Eine weitere Begleiterscheinung des Deep Learning ist die Anfälligkeit für Falschberechnungen, die durch subtile, bei zum Beispiel Bildern für Menschen nicht sichtbare, Manipulationen der Eingabesignaleausgelöst werden können. Dieses Phänomen wird unter Adversarial Examples zusammengefasst.[29]Es gibt zwei Konzepte zu Grenzen und Erklärbarkeit: „Opake KI“ und „transparente KI“. Ersteres, Opake KI, beinhaltet neuronale Netze, Deep Learning,', metadata={'source': 'data/Deep Learning – Wikipedia.pdf', 'page': 0}),\n Document(page_content='Links: Eingangsschicht (input layer) mit in diesem Fall dreiEingangsneuronen. Rechts: Ausgabeschicht mit den Ausgangsneuronen, indiesem Bild zwei. Die mittlere Schicht wird als verborgen bezeichnet (hiddenlayer), da ihre Neuronen weder Eingänge noch Ausgänge sind. Hier ist nur eineverborgene Schicht zu sehen, aber viele Netzwerke haben deutlich mehr. Dienotwendige Anzahl von Ebenen, ab denen man von „Deep Learning“ spricht, istnicht genau festgelegt.Deep Learning (deutsch: mehrschichtiges Lernen, tiefes Lernen[2] oder tiefgehendes Lernen) bezeichnet eine Methode des maschinellen Lernens, die künstliche neuronale Netze (KNN) mit zahlreichenZwischenschichten (englisch hidden layers) zwischen Eingabeschicht und Ausgabeschicht einsetzt und dadurch eine umfangreiche innere Struktur herausbildet.[3][4][5] Es ist eine spezielle Methode derInformationsverarbeitung.Inhaltsverzeichnis [Verbergen]1Voraussetzungen und Grundlagen2Geschichte, Entwicklung und Verwendung3Komplexität und Grenzen der', metadata={'source': 'data/Deep Learning – Wikipedia.pdf', 'page': 0}),\n Document(page_content='Dies waren die ersten internationalen Wettbewerbe, die durch Deep Learning [24] oder durch rekurrente Netze gewonnen wurden.Die jüngsten Erfolge von Deep Learning Methoden, wie der Go-Turniergewinn des Programmes AlphaGo gegen die weltbesten menschlichen Spieler, gründen sich neben der gestiegenen Verarbeitungsgeschwindigkeit der Hardware auf den Einsatz vonDeep Learning zum Training des in AlphaGo verwendeten neuronalen Netzes.[25] Gleiches gilt für die seit 2020 gelungene Vorhersage von Protein-Faltungen.[26] Diese Netze nutzen künstlich erzeugte Neuronen (Perzeptron), um Muster zu erkennen. Für Beiträge zu neuronalen Netzwerken und Deep Learning erhielten Yann LeCun, Yoshua Bengio und Geoffrey Hinton 2018 den Turing Award.[27]Komplexität und Grenzen der Erklärbarkeit[Bearbeiten | Quelltext bearbeiten]Tiefe neuronale Netze können eine Komplexität von bis zu hundert Millionen einzelnen Parametern und zehn Milliarden Rechenoperationen pro Eingangsdatum aufweisen. Die', metadata={'source': 'data/Deep Learning – Wikipedia.pdf', 'page': 0})]"
     },
     "execution_count": 22,
     "metadata": {},
     "output_type": "execute_result"
    }
   ],
   "source": [
    "datenbank.similarity_search(\"Wozu dient die erste Schicht in einem neuronalen Netzwerk?\")"
   ],
   "metadata": {
    "collapsed": false,
    "ExecuteTime": {
     "end_time": "2023-12-22T21:35:21.946254Z",
     "start_time": "2023-12-22T21:35:21.863873Z"
    }
   },
   "id": "9b8559dc9c1aec71"
  },
  {
   "cell_type": "markdown",
   "source": [
    "## Zwischenfazit\n",
    "\n",
    "Was wir bisher haben:\n",
    "\n",
    "- Wir lesen alle Dokumente von einem Ordner ein\n",
    "- Wir teilen die Dokumente in kleinere Abschnitte auf\n",
    "- Wir wandeln die Abschnitte in Vektoren um\n",
    "- Wir speichern die Vektoren in einer Datenbank\n",
    "- Wir können die Ähnlichkeit zwischen den Vektoren und einer Frage berechnen\n",
    "\n",
    "Was noch fehlt:\n",
    "- Wir müssen die besten Abschnitte auswählen und dem Chatbot übergeben\n",
    "- Wir wollen dem Chatbot eine Frage zum Dokument stellen und eine Antwort erhalten\n",
    "- Der Chatbot soll eine Frage zum Dokument generieren und wir beantworten sie\n",
    "\n",
    "Dazu bilden wir entsprechende Pipelines.\n"
   ],
   "metadata": {
    "collapsed": false
   },
   "id": "a996ef8353cfb0ab"
  },
  {
   "cell_type": "markdown",
   "source": [
    "## Frage beantworten\n",
    "\n",
    "Wir wollen nun eine Frage zum Dokument stellen und eine Antwort erhalten. Dazu müssen wir die Datenbank in die Pipeline einbauen. Die Funktion `datenbank.as_retriever()`erzeugt einen `Retriever`. Dieser Retriever kann für eine gegebene Frage die passendsten Texte finden.\n"
   ],
   "metadata": {
    "collapsed": false
   },
   "id": "f8aa7ae1b2966647"
  },
  {
   "cell_type": "code",
   "execution_count": 23,
   "outputs": [],
   "source": [
    "retriever = datenbank.as_retriever()"
   ],
   "metadata": {
    "collapsed": false,
    "ExecuteTime": {
     "end_time": "2023-12-22T21:35:21.972194Z",
     "start_time": "2023-12-22T21:35:21.947374Z"
    }
   },
   "id": "1608ac7e80f2c637"
  },
  {
   "cell_type": "markdown",
   "source": [
    "Dieser Retriever kann wie folgt aufgerufen werden:"
   ],
   "metadata": {
    "collapsed": false
   },
   "id": "1968e402819c5f14"
  },
  {
   "cell_type": "code",
   "execution_count": 24,
   "outputs": [
    {
     "data": {
      "text/plain": "[Document(page_content='| Quelltext bearbeiten]Tiefe neuronale Netze können eine Komplexität von bis zu hundert Millionen einzelnen Parametern und zehn Milliarden Rechenoperationen pro Eingangsdatum aufweisen. Die Interpretierbarkeit der Parameter und Erklärbarkeit des Zustandekommens derErgebnisse ist hier nur noch eingeschränkt möglich und erfordert den Einsatz spezieller Techniken, die unter Explainable Artiﬁcial Intelligence zusammengefasst werden. Ein weiterer Ansatz ist die Verwendung von Methoden aus der Physik von Vielteilchensysteme (Statistische Physik).[28] Eine weitere Begleiterscheinung des Deep Learning ist die Anfälligkeit für Falschberechnungen, die durch subtile, bei zum Beispiel Bildern für Menschen nicht sichtbare, Manipulationen der Eingabesignaleausgelöst werden können. Dieses Phänomen wird unter Adversarial Examples zusammengefasst.[29]Es gibt zwei Konzepte zu Grenzen und Erklärbarkeit: „Opake KI“ und „transparente KI“. Ersteres, Opake KI, beinhaltet neuronale Netze, Deep Learning,', metadata={'source': 'data/Deep Learning – Wikipedia.pdf', 'page': 0}),\n Document(page_content='Links: Eingangsschicht (input layer) mit in diesem Fall dreiEingangsneuronen. Rechts: Ausgabeschicht mit den Ausgangsneuronen, indiesem Bild zwei. Die mittlere Schicht wird als verborgen bezeichnet (hiddenlayer), da ihre Neuronen weder Eingänge noch Ausgänge sind. Hier ist nur eineverborgene Schicht zu sehen, aber viele Netzwerke haben deutlich mehr. Dienotwendige Anzahl von Ebenen, ab denen man von „Deep Learning“ spricht, istnicht genau festgelegt.Deep Learning (deutsch: mehrschichtiges Lernen, tiefes Lernen[2] oder tiefgehendes Lernen) bezeichnet eine Methode des maschinellen Lernens, die künstliche neuronale Netze (KNN) mit zahlreichenZwischenschichten (englisch hidden layers) zwischen Eingabeschicht und Ausgabeschicht einsetzt und dadurch eine umfangreiche innere Struktur herausbildet.[3][4][5] Es ist eine spezielle Methode derInformationsverarbeitung.Inhaltsverzeichnis [Verbergen]1Voraussetzungen und Grundlagen2Geschichte, Entwicklung und Verwendung3Komplexität und Grenzen der', metadata={'source': 'data/Deep Learning – Wikipedia.pdf', 'page': 0}),\n Document(page_content='eine Teilmenge des maschinellen Lernens, nutzt eine Reihe hierarchischer Schichten bzw. eineHierarchie von Konzepten, um den Prozess des maschinellen Lernens durchzuführen. Die hierbei benutzten künstlichen neuronalen Netze sind wie das menschliche Gehirn gebaut, wobei die Neuronen wie ein Netz miteinander verbunden sind. Die ersteSchicht des neuronalen Netzes, die sichtbare Eingangsschicht, verarbeitet eine Rohdateneingabe, wie beispielsweise die einzelnen Pixel eines Bildes. Die Dateneingabe enthält Variablen, die der Beobachtung zugänglich sind, daher „sichtbare Schicht“. [3] Diese erste Schicht leitet ihre Ausgaben an die nächste Schicht weiter. Diese zweite Schicht verarbeitet die Informationen der vorherigen Schicht und gibt das Ergebnis ebenfalls weiter. Die nächste', metadata={'source': 'data/Deep Learning – Wikipedia.pdf', 'page': 0}),\n Document(page_content='vor allem aus dem Bereich des maschinellen Sehens, begannen mit dem Neocognitron, einer Convolutional Neural Network (CNN) Architektur, die von Kunihiko Fukushima 1980 entwickelt wurde.[13] Alex Waibels CNN namens TDNN (1987) wurde durch backpropagation trainiert und erzielte Bewegungsinvarianz.[14] Im Jahr 1989 verwendeten Yann LeCun und Kollegen den Backpropagation-Algorithmus für das Training mehrschichtiger KNNs (siehe Multi-Layer-Perzeptron), mit dem Ziel, handgeschriebene Postleitzahlen zu erkennen.[15] Sven Behnke hat seit 1997 in der Neuronalen Abstraktionspyramide[16] den vorwärtsgerichteten hierarchisch-konvolutionalenAnsatz durch seitliche und rückwärtsgerichtete Verbindungen erweitert, um so ﬂexibel Kontext in Entscheidungen einzubeziehen und iterativ lokale Mehrdeutigkeiten aufzulösen.Der Begriff „Deep Learning“ wurde im Kontext des maschinellen Lernens erstmals 1986 von Rina Dechter verwendet, wobei sie hiermit ein Verfahren bezeichnet, bei dem alle verwendeten Lösungen', metadata={'source': 'data/Deep Learning – Wikipedia.pdf', 'page': 0})]"
     },
     "execution_count": 24,
     "metadata": {},
     "output_type": "execute_result"
    }
   ],
   "source": [
    "retriever.invoke(\"Was ist ein Neuron?\")"
   ],
   "metadata": {
    "collapsed": false,
    "ExecuteTime": {
     "end_time": "2023-12-22T21:35:22.063843Z",
     "start_time": "2023-12-22T21:35:21.961702Z"
    }
   },
   "id": "c5f252f5874b4337"
  },
  {
   "cell_type": "markdown",
   "source": [
    "#### Dokumente zusammensetzen\n",
    "\n",
    "Wie wir sehen gibt der Retriever mehrere Texte zurück. Wir hängen diese Texte zusammen, so dass wir einen längeren Text erhalten, welchen wir direkt in das AI Modell geben können."
   ],
   "metadata": {
    "collapsed": false
   },
   "id": "f732965071cf449a"
  },
  {
   "cell_type": "code",
   "execution_count": 25,
   "outputs": [
    {
     "data": {
      "text/plain": "'| Quelltext bearbeiten]Tiefe neuronale Netze können eine Komplexität von bis zu hundert Millionen einzelnen Parametern und zehn Milliarden Rechenoperationen pro Eingangsdatum aufweisen. Die Interpretierbarkeit der Parameter und Erklärbarkeit des Zustandekommens derErgebnisse ist hier nur noch eingeschränkt möglich und erfordert den Einsatz spezieller Techniken, die unter Explainable Artiﬁcial Intelligence zusammengefasst werden. Ein weiterer Ansatz ist die Verwendung von Methoden aus der Physik von Vielteilchensysteme (Statistische Physik).[28] Eine weitere Begleiterscheinung des Deep Learning ist die Anfälligkeit für Falschberechnungen, die durch subtile, bei zum Beispiel Bildern für Menschen nicht sichtbare, Manipulationen der Eingabesignaleausgelöst werden können. Dieses Phänomen wird unter Adversarial Examples zusammengefasst.[29]Es gibt zwei Konzepte zu Grenzen und Erklärbarkeit: „Opake KI“ und „transparente KI“. Ersteres, Opake KI, beinhaltet neuronale Netze, Deep Learning,\\n\\nLinks: Eingangsschicht (input layer) mit in diesem Fall dreiEingangsneuronen. Rechts: Ausgabeschicht mit den Ausgangsneuronen, indiesem Bild zwei. Die mittlere Schicht wird als verborgen bezeichnet (hiddenlayer), da ihre Neuronen weder Eingänge noch Ausgänge sind. Hier ist nur eineverborgene Schicht zu sehen, aber viele Netzwerke haben deutlich mehr. Dienotwendige Anzahl von Ebenen, ab denen man von „Deep Learning“ spricht, istnicht genau festgelegt.Deep Learning (deutsch: mehrschichtiges Lernen, tiefes Lernen[2] oder tiefgehendes Lernen) bezeichnet eine Methode des maschinellen Lernens, die künstliche neuronale Netze (KNN) mit zahlreichenZwischenschichten (englisch hidden layers) zwischen Eingabeschicht und Ausgabeschicht einsetzt und dadurch eine umfangreiche innere Struktur herausbildet.[3][4][5] Es ist eine spezielle Methode derInformationsverarbeitung.Inhaltsverzeichnis [Verbergen]1Voraussetzungen und Grundlagen2Geschichte, Entwicklung und Verwendung3Komplexität und Grenzen der\\n\\neine Teilmenge des maschinellen Lernens, nutzt eine Reihe hierarchischer Schichten bzw. eineHierarchie von Konzepten, um den Prozess des maschinellen Lernens durchzuführen. Die hierbei benutzten künstlichen neuronalen Netze sind wie das menschliche Gehirn gebaut, wobei die Neuronen wie ein Netz miteinander verbunden sind. Die ersteSchicht des neuronalen Netzes, die sichtbare Eingangsschicht, verarbeitet eine Rohdateneingabe, wie beispielsweise die einzelnen Pixel eines Bildes. Die Dateneingabe enthält Variablen, die der Beobachtung zugänglich sind, daher „sichtbare Schicht“. [3] Diese erste Schicht leitet ihre Ausgaben an die nächste Schicht weiter. Diese zweite Schicht verarbeitet die Informationen der vorherigen Schicht und gibt das Ergebnis ebenfalls weiter. Die nächste\\n\\nvor allem aus dem Bereich des maschinellen Sehens, begannen mit dem Neocognitron, einer Convolutional Neural Network (CNN) Architektur, die von Kunihiko Fukushima 1980 entwickelt wurde.[13] Alex Waibels CNN namens TDNN (1987) wurde durch backpropagation trainiert und erzielte Bewegungsinvarianz.[14] Im Jahr 1989 verwendeten Yann LeCun und Kollegen den Backpropagation-Algorithmus für das Training mehrschichtiger KNNs (siehe Multi-Layer-Perzeptron), mit dem Ziel, handgeschriebene Postleitzahlen zu erkennen.[15] Sven Behnke hat seit 1997 in der Neuronalen Abstraktionspyramide[16] den vorwärtsgerichteten hierarchisch-konvolutionalenAnsatz durch seitliche und rückwärtsgerichtete Verbindungen erweitert, um so ﬂexibel Kontext in Entscheidungen einzubeziehen und iterativ lokale Mehrdeutigkeiten aufzulösen.Der Begriff „Deep Learning“ wurde im Kontext des maschinellen Lernens erstmals 1986 von Rina Dechter verwendet, wobei sie hiermit ein Verfahren bezeichnet, bei dem alle verwendeten Lösungen'"
     },
     "execution_count": 25,
     "metadata": {},
     "output_type": "execute_result"
    }
   ],
   "source": [
    "def format_docs(docs):\n",
    "    return \"\\n\\n\".join(doc.page_content for doc in docs)\n",
    "\n",
    "format_docs(retriever.invoke(\"Was ist ein Neuron?\"))"
   ],
   "metadata": {
    "collapsed": false,
    "ExecuteTime": {
     "end_time": "2023-12-22T21:35:22.094446Z",
     "start_time": "2023-12-22T21:35:22.019469Z"
    }
   },
   "id": "3a56c685c8ccd133"
  },
  {
   "cell_type": "markdown",
   "source": [
    "#### Prompt Template\n",
    "\n",
    "Wir geben im Prompt-Template eine eindeutige Anweisung, was der Chatbot tun soll. Nachfolgender Code erstellt ein Prompt-Template, welches den Chatbot anweist, eine Frage zu beantworten."
   ],
   "metadata": {
    "collapsed": false
   },
   "id": "4430e5c803e90ef3"
  },
  {
   "cell_type": "code",
   "execution_count": 26,
   "outputs": [],
   "source": [
    "from langchain.prompts import ChatPromptTemplate\n",
    "\n",
    "prompt_template = ChatPromptTemplate.from_messages(\n",
    "    [\n",
    "        (\"system\", \"Sie sind ein Assistent zur Beantwortung von Fragen. Beantworten Sie die Frage mit Hilfe der gegebenen Kontext-Informationen. Wenn Sie die Antwort nicht wissen, sagen Sie einfach, dass Sie es nicht wissen und erfinden Sie nichts. Verwenden Sie maximal drei Sätze und fassen Sie die Antwort kurz.\"),\n",
    "        (\"human\", \"Frage: {frage} \\nKontext-Informationen: {kontext}\\n\"),\n",
    "    ]\n",
    ")"
   ],
   "metadata": {
    "collapsed": false,
    "ExecuteTime": {
     "end_time": "2023-12-22T21:35:22.181238Z",
     "start_time": "2023-12-22T21:35:22.057202Z"
    }
   },
   "id": "8a5dc12fe5275457"
  },
  {
   "cell_type": "code",
   "execution_count": 27,
   "outputs": [
    {
     "data": {
      "text/plain": "'System: Sie sind ein Assistent zur Beantwortung von Fragen. Beantworten Sie die Frage mit Hilfe der gegebenen Kontext-Informationen. Wenn Sie die Antwort nicht wissen, sagen Sie einfach, dass Sie es nicht wissen und erfinden Sie nichts. Verwenden Sie maximal drei Sätze und fassen Sie die Antwort kurz.\\nHuman: Frage: Gegebene Frage \\nKontext-Informationen: Gegebener Kontext\\n'"
     },
     "execution_count": 27,
     "metadata": {},
     "output_type": "execute_result"
    }
   ],
   "source": [
    "prompt_template.invoke({\"kontext\": \"Gegebener Kontext\", \"frage\": \"Gegebene Frage\"}).to_string()"
   ],
   "metadata": {
    "collapsed": false,
    "ExecuteTime": {
     "end_time": "2023-12-22T21:35:22.211032Z",
     "start_time": "2023-12-22T21:35:22.068871Z"
    }
   },
   "id": "d73ebb9ce87e34d6"
  },
  {
   "cell_type": "markdown",
   "source": [
    "#### LLM Modell\n",
    "\n",
    "Wir verwenden das LLM Modell von OpenAI, um die Frage zu beantworten. Dabei setzen wir die Temperatur auf 0, so dass wir eine präzisere Antwort erhalten."
   ],
   "metadata": {
    "collapsed": false
   },
   "id": "7f886c80e6411693"
  },
  {
   "cell_type": "code",
   "execution_count": 28,
   "outputs": [],
   "source": [
    "llm = ChatOpenAI(model_name=\"gpt-3.5-turbo\", temperature=0, openai_api_key=key)"
   ],
   "metadata": {
    "collapsed": false,
    "ExecuteTime": {
     "end_time": "2023-12-22T21:35:22.321457Z",
     "start_time": "2023-12-22T21:35:22.081006Z"
    }
   },
   "id": "e3ea046ded151a29"
  },
  {
   "cell_type": "markdown",
   "source": [
    "#### Pipeline\n",
    "\n",
    "Wir setzen diese Bausteine nun in einer Pipeline zusammen. Nachfolgender Code erstellt eine Pipeline, welche basierend auf einer Frage die passendsten Texte findet und diese dem Chatbot übergibt. Der Chatbot gibt dann eine Antwort zurück."
   ],
   "metadata": {
    "collapsed": false
   },
   "id": "5d4f0e22b8090b05"
  },
  {
   "cell_type": "code",
   "execution_count": 29,
   "outputs": [],
   "source": [
    "rag_chain = (\n",
    "    {\"kontext\": retriever | format_docs, \"frage\": RunnablePassthrough()}\n",
    "    | prompt_template\n",
    "    | llm\n",
    "    | StrOutputParser()\n",
    ")"
   ],
   "metadata": {
    "collapsed": false,
    "ExecuteTime": {
     "end_time": "2023-12-22T21:35:22.345593Z",
     "start_time": "2023-12-22T21:35:22.210152Z"
    }
   },
   "id": "11089a51041eddc0"
  },
  {
   "cell_type": "markdown",
   "source": [
    "Wir können die Pipeline nun verwenden, um eine Frage zu stellen und eine Antwort zu erhalten."
   ],
   "metadata": {
    "collapsed": false
   },
   "id": "994491cbf6ee6065"
  },
  {
   "cell_type": "code",
   "execution_count": 30,
   "outputs": [
    {
     "data": {
      "text/plain": "'Deep Learning bezieht sich auf eine Methode des maschinellen Lernens, bei der künstliche neuronale Netze verwendet werden, um Muster und komplexe Zusammenhänge in Daten zu erkennen und zu lernen. Es hat in verschiedenen Bereichen wie Bilderkennung, Spracherkennung und Spielstrategie große Erfolge erzielt.'"
     },
     "execution_count": 30,
     "metadata": {},
     "output_type": "execute_result"
    }
   ],
   "source": [
    "rag_chain.invoke(\"Was ist deep learning?\")"
   ],
   "metadata": {
    "collapsed": false,
    "ExecuteTime": {
     "end_time": "2023-12-22T21:35:24.961001Z",
     "start_time": "2023-12-22T21:35:22.225955Z"
    }
   },
   "id": "2a69408e7361ae70"
  },
  {
   "cell_type": "code",
   "execution_count": 31,
   "outputs": [
    {
     "name": "stdout",
     "output_type": "stream",
     "text": [
      "Deep Learning bezieht sich auf eine Methode des maschinellen Lernens, bei der künstliche neuronale Netze verwendet werden, um Muster und komplexe Zusammenhänge in Daten zu erkennen und zu lernen. Es hat in verschiedenen Bereichen wie Bilderkennung, Spracherkennung und Spielstrategie große Erfolge erzielt.\n"
     ]
    }
   ],
   "source": [
    "frage = input(\"Frage: \")\n",
    "print(rag_chain.invoke(frage))"
   ],
   "metadata": {
    "collapsed": false,
    "ExecuteTime": {
     "end_time": "2023-12-22T21:35:46.723799Z",
     "start_time": "2023-12-22T21:35:24.952428Z"
    }
   },
   "id": "42e864bda98b842b"
  },
  {
   "cell_type": "markdown",
   "source": [
    "## Frage generieren"
   ],
   "metadata": {
    "collapsed": false
   },
   "id": "2785c54a5d18a3de"
  },
  {
   "cell_type": "code",
   "execution_count": 32,
   "outputs": [],
   "source": [
    "def get_random_dokument():\n",
    "    random_document = random.choice(list(datenbank.docstore._dict.items()))\n",
    "    return random_document"
   ],
   "metadata": {
    "collapsed": false,
    "ExecuteTime": {
     "end_time": "2023-12-22T21:36:05.466995Z",
     "start_time": "2023-12-22T21:36:05.443106Z"
    }
   },
   "id": "872aa4fd2d61036e"
  },
  {
   "cell_type": "code",
   "execution_count": 33,
   "outputs": [
    {
     "data": {
      "text/plain": "('84368748-8657-4d6e-a3ab-b97226f69719',\n Document(page_content='22.12.2023, 11:12Maschinelles Lernen – Wikipedia', metadata={'source': 'data/Maschinelles Lernen – Wikipedia.pdf', 'page': 1}))"
     },
     "execution_count": 33,
     "metadata": {},
     "output_type": "execute_result"
    }
   ],
   "source": [
    "get_random_dokument()"
   ],
   "metadata": {
    "collapsed": false,
    "ExecuteTime": {
     "end_time": "2023-12-22T21:36:06.409547Z",
     "start_time": "2023-12-22T21:36:06.377642Z"
    }
   },
   "id": "9d7ade70da6bb2f"
  },
  {
   "cell_type": "code",
   "execution_count": 34,
   "outputs": [],
   "source": [
    "prompt_template = ChatPromptTemplate.from_messages(\n",
    "    [\n",
    "        (\"system\", \"Sie sind ein Assistent zur Generierung von Fragen. Generieren Sie eine neue Frage basierend auf den gegebenen Kontext-Informationen. Die Frage muss sehr spezifisch zum Inhalt sein und darf nicht generell sein wie 'was kommt im Dokument vor'. Generieren Sie einen Satz für die Frage mit einem Fragezeichen am Ende. Machen Sie danach 5 Leerzeilen und geben Sie mit maximal zwei Sätzen eine Musterlösung an. Beispielsweise könnten für die Kontext-Informationen 'Real Madrid ist ein Fussball Club' der Output wie folgt aussehen: 'FRAGE: Was ist Real Madrid? \\n\\n\\n\\n\\nANTWORT: Real Madrid ist ein Fussball Club.'\"),\n",
    "        (\"human\", \"Kontext-Informationen: {kontext}\\n\"),\n",
    "    ]\n",
    ")"
   ],
   "metadata": {
    "collapsed": false,
    "ExecuteTime": {
     "end_time": "2023-12-22T21:36:06.942216Z",
     "start_time": "2023-12-22T21:36:06.908441Z"
    }
   },
   "id": "488c0273f96fe7c"
  },
  {
   "cell_type": "code",
   "execution_count": 35,
   "outputs": [],
   "source": [
    "llm = ChatOpenAI(model_name=\"gpt-3.5-turbo\", temperature=0.7, openai_api_key=key)"
   ],
   "metadata": {
    "collapsed": false,
    "ExecuteTime": {
     "end_time": "2023-12-22T21:36:08.002092Z",
     "start_time": "2023-12-22T21:36:07.861237Z"
    }
   },
   "id": "7324337286d858c3"
  },
  {
   "cell_type": "code",
   "execution_count": 36,
   "outputs": [],
   "source": [
    "frage_chain = (\n",
    "    {\"kontext\": RunnablePassthrough()}\n",
    "    | prompt_template\n",
    "    | llm\n",
    "    | StrOutputParser()\n",
    ")"
   ],
   "metadata": {
    "collapsed": false,
    "ExecuteTime": {
     "end_time": "2023-12-22T21:36:08.501277Z",
     "start_time": "2023-12-22T21:36:08.477269Z"
    }
   },
   "id": "d287caba7fd9bd34"
  },
  {
   "cell_type": "code",
   "execution_count": 37,
   "outputs": [
    {
     "name": "stdout",
     "output_type": "stream",
     "text": [
      "FRAGE: Welche Veröffentlichungen sind im Jahr 2017 in Bezug auf neuronale Netze erwähnt?\n",
      "\n",
      "\n",
      "\n",
      "\n",
      "ANTWORT: Im Jahr 2017 wurden die folgenden Veröffentlichungen in Bezug auf neuronale Netze erwähnt: \"Ein kleiner Überblick über Neuronale Netze\" von David Kriesel, \"Neural Networks and Deep Learning\" von Michael Nielsen und \"Deep learning in neural networks: An overview\" von Jürgen Schmidhuber.\n"
     ]
    }
   ],
   "source": [
    "print(frage_chain.invoke(get_random_dokument()[1].page_content))"
   ],
   "metadata": {
    "collapsed": false,
    "ExecuteTime": {
     "end_time": "2023-12-22T21:36:13.820803Z",
     "start_time": "2023-12-22T21:36:10.199355Z"
    }
   },
   "id": "40dbe0cb3fc5eba7"
  },
  {
   "cell_type": "code",
   "execution_count": null,
   "outputs": [],
   "source": [],
   "metadata": {
    "collapsed": false,
    "ExecuteTime": {
     "start_time": "2023-12-22T21:34:14.143301Z"
    }
   },
   "id": "c2cae878d3b3ba0b"
  }
 ],
 "metadata": {
  "kernelspec": {
   "display_name": "Python 3",
   "language": "python",
   "name": "python3"
  },
  "language_info": {
   "codemirror_mode": {
    "name": "ipython",
    "version": 2
   },
   "file_extension": ".py",
   "mimetype": "text/x-python",
   "name": "python",
   "nbconvert_exporter": "python",
   "pygments_lexer": "ipython2",
   "version": "2.7.6"
  }
 },
 "nbformat": 4,
 "nbformat_minor": 5
}
